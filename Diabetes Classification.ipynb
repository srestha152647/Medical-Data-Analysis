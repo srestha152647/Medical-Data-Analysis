{
 "cells": [
  {
   "cell_type": "code",
   "execution_count": 4,
   "metadata": {
    "id": "BIojQL2121eS"
   },
   "outputs": [],
   "source": [
    "import numpy as np\n",
    "import pandas as pd\n",
    "import matplotlib.pyplot as plt\n",
    "import seaborn as sns"
   ]
  },
  {
   "cell_type": "code",
   "execution_count": 5,
   "metadata": {
    "id": "4ISV5fkf3MWZ"
   },
   "outputs": [],
   "source": [
    "diabetes = pd.read_csv(\"https://raw.githubusercontent.com/ammishra08/MachineLearning/master/Datasets/diabetes.csv\")"
   ]
  },
  {
   "cell_type": "code",
   "execution_count": 6,
   "metadata": {
    "colab": {
     "base_uri": "https://localhost:8080/",
     "height": 415
    },
    "id": "vmJ7NhPI3o7p",
    "outputId": "8a383b35-ebd7-48db-d919-5bcfcea8e55a"
   },
   "outputs": [
    {
     "data": {
      "text/html": [
       "<div>\n",
       "<style scoped>\n",
       "    .dataframe tbody tr th:only-of-type {\n",
       "        vertical-align: middle;\n",
       "    }\n",
       "\n",
       "    .dataframe tbody tr th {\n",
       "        vertical-align: top;\n",
       "    }\n",
       "\n",
       "    .dataframe thead th {\n",
       "        text-align: right;\n",
       "    }\n",
       "</style>\n",
       "<table border=\"1\" class=\"dataframe\">\n",
       "  <thead>\n",
       "    <tr style=\"text-align: right;\">\n",
       "      <th></th>\n",
       "      <th>Pregnancies</th>\n",
       "      <th>Glucose</th>\n",
       "      <th>BloodPressure</th>\n",
       "      <th>SkinThickness</th>\n",
       "      <th>Insulin</th>\n",
       "      <th>BMI</th>\n",
       "      <th>DiabetesPedigreeFunction</th>\n",
       "      <th>Age</th>\n",
       "      <th>Outcome</th>\n",
       "    </tr>\n",
       "  </thead>\n",
       "  <tbody>\n",
       "    <tr>\n",
       "      <th>0</th>\n",
       "      <td>6</td>\n",
       "      <td>148</td>\n",
       "      <td>72</td>\n",
       "      <td>35</td>\n",
       "      <td>0</td>\n",
       "      <td>33.6</td>\n",
       "      <td>0.627</td>\n",
       "      <td>50</td>\n",
       "      <td>1</td>\n",
       "    </tr>\n",
       "    <tr>\n",
       "      <th>1</th>\n",
       "      <td>1</td>\n",
       "      <td>85</td>\n",
       "      <td>66</td>\n",
       "      <td>29</td>\n",
       "      <td>0</td>\n",
       "      <td>26.6</td>\n",
       "      <td>0.351</td>\n",
       "      <td>31</td>\n",
       "      <td>0</td>\n",
       "    </tr>\n",
       "    <tr>\n",
       "      <th>2</th>\n",
       "      <td>8</td>\n",
       "      <td>183</td>\n",
       "      <td>64</td>\n",
       "      <td>0</td>\n",
       "      <td>0</td>\n",
       "      <td>23.3</td>\n",
       "      <td>0.672</td>\n",
       "      <td>32</td>\n",
       "      <td>1</td>\n",
       "    </tr>\n",
       "    <tr>\n",
       "      <th>3</th>\n",
       "      <td>1</td>\n",
       "      <td>89</td>\n",
       "      <td>66</td>\n",
       "      <td>23</td>\n",
       "      <td>94</td>\n",
       "      <td>28.1</td>\n",
       "      <td>0.167</td>\n",
       "      <td>21</td>\n",
       "      <td>0</td>\n",
       "    </tr>\n",
       "    <tr>\n",
       "      <th>4</th>\n",
       "      <td>0</td>\n",
       "      <td>137</td>\n",
       "      <td>40</td>\n",
       "      <td>35</td>\n",
       "      <td>168</td>\n",
       "      <td>43.1</td>\n",
       "      <td>2.288</td>\n",
       "      <td>33</td>\n",
       "      <td>1</td>\n",
       "    </tr>\n",
       "    <tr>\n",
       "      <th>...</th>\n",
       "      <td>...</td>\n",
       "      <td>...</td>\n",
       "      <td>...</td>\n",
       "      <td>...</td>\n",
       "      <td>...</td>\n",
       "      <td>...</td>\n",
       "      <td>...</td>\n",
       "      <td>...</td>\n",
       "      <td>...</td>\n",
       "    </tr>\n",
       "    <tr>\n",
       "      <th>763</th>\n",
       "      <td>10</td>\n",
       "      <td>101</td>\n",
       "      <td>76</td>\n",
       "      <td>48</td>\n",
       "      <td>180</td>\n",
       "      <td>32.9</td>\n",
       "      <td>0.171</td>\n",
       "      <td>63</td>\n",
       "      <td>0</td>\n",
       "    </tr>\n",
       "    <tr>\n",
       "      <th>764</th>\n",
       "      <td>2</td>\n",
       "      <td>122</td>\n",
       "      <td>70</td>\n",
       "      <td>27</td>\n",
       "      <td>0</td>\n",
       "      <td>36.8</td>\n",
       "      <td>0.340</td>\n",
       "      <td>27</td>\n",
       "      <td>0</td>\n",
       "    </tr>\n",
       "    <tr>\n",
       "      <th>765</th>\n",
       "      <td>5</td>\n",
       "      <td>121</td>\n",
       "      <td>72</td>\n",
       "      <td>23</td>\n",
       "      <td>112</td>\n",
       "      <td>26.2</td>\n",
       "      <td>0.245</td>\n",
       "      <td>30</td>\n",
       "      <td>0</td>\n",
       "    </tr>\n",
       "    <tr>\n",
       "      <th>766</th>\n",
       "      <td>1</td>\n",
       "      <td>126</td>\n",
       "      <td>60</td>\n",
       "      <td>0</td>\n",
       "      <td>0</td>\n",
       "      <td>30.1</td>\n",
       "      <td>0.349</td>\n",
       "      <td>47</td>\n",
       "      <td>1</td>\n",
       "    </tr>\n",
       "    <tr>\n",
       "      <th>767</th>\n",
       "      <td>1</td>\n",
       "      <td>93</td>\n",
       "      <td>70</td>\n",
       "      <td>31</td>\n",
       "      <td>0</td>\n",
       "      <td>30.4</td>\n",
       "      <td>0.315</td>\n",
       "      <td>23</td>\n",
       "      <td>0</td>\n",
       "    </tr>\n",
       "  </tbody>\n",
       "</table>\n",
       "<p>768 rows × 9 columns</p>\n",
       "</div>"
      ],
      "text/plain": [
       "     Pregnancies  Glucose  BloodPressure  SkinThickness  Insulin   BMI  \\\n",
       "0              6      148             72             35        0  33.6   \n",
       "1              1       85             66             29        0  26.6   \n",
       "2              8      183             64              0        0  23.3   \n",
       "3              1       89             66             23       94  28.1   \n",
       "4              0      137             40             35      168  43.1   \n",
       "..           ...      ...            ...            ...      ...   ...   \n",
       "763           10      101             76             48      180  32.9   \n",
       "764            2      122             70             27        0  36.8   \n",
       "765            5      121             72             23      112  26.2   \n",
       "766            1      126             60              0        0  30.1   \n",
       "767            1       93             70             31        0  30.4   \n",
       "\n",
       "     DiabetesPedigreeFunction  Age  Outcome  \n",
       "0                       0.627   50        1  \n",
       "1                       0.351   31        0  \n",
       "2                       0.672   32        1  \n",
       "3                       0.167   21        0  \n",
       "4                       2.288   33        1  \n",
       "..                        ...  ...      ...  \n",
       "763                     0.171   63        0  \n",
       "764                     0.340   27        0  \n",
       "765                     0.245   30        0  \n",
       "766                     0.349   47        1  \n",
       "767                     0.315   23        0  \n",
       "\n",
       "[768 rows x 9 columns]"
      ]
     },
     "metadata": {},
     "output_type": "display_data"
    }
   ],
   "source": [
    "display(diabetes)"
   ]
  },
  {
   "cell_type": "markdown",
   "metadata": {
    "id": "e3YFL-H_4E9Q"
   },
   "source": [
    "**Data Manipulation**"
   ]
  },
  {
   "cell_type": "code",
   "execution_count": 7,
   "metadata": {
    "colab": {
     "base_uri": "https://localhost:8080/"
    },
    "id": "aMzuBHQU3qrC",
    "outputId": "a91982c0-614b-43c3-f3a8-e1b8e182829f"
   },
   "outputs": [
    {
     "data": {
      "text/plain": [
       "Pregnancies                 0\n",
       "Glucose                     0\n",
       "BloodPressure               0\n",
       "SkinThickness               0\n",
       "Insulin                     0\n",
       "BMI                         0\n",
       "DiabetesPedigreeFunction    0\n",
       "Age                         0\n",
       "Outcome                     0\n",
       "dtype: int64"
      ]
     },
     "execution_count": 7,
     "metadata": {},
     "output_type": "execute_result"
    }
   ],
   "source": [
    "diabetes.isnull().sum()"
   ]
  },
  {
   "cell_type": "code",
   "execution_count": 8,
   "metadata": {
    "colab": {
     "base_uri": "https://localhost:8080/",
     "height": 294
    },
    "id": "iSmGOA5s4QoL",
    "outputId": "9c70dcb3-af44-4b16-9d2b-fe92744bba65"
   },
   "outputs": [
    {
     "data": {
      "text/html": [
       "<div>\n",
       "<style scoped>\n",
       "    .dataframe tbody tr th:only-of-type {\n",
       "        vertical-align: middle;\n",
       "    }\n",
       "\n",
       "    .dataframe tbody tr th {\n",
       "        vertical-align: top;\n",
       "    }\n",
       "\n",
       "    .dataframe thead th {\n",
       "        text-align: right;\n",
       "    }\n",
       "</style>\n",
       "<table border=\"1\" class=\"dataframe\">\n",
       "  <thead>\n",
       "    <tr style=\"text-align: right;\">\n",
       "      <th></th>\n",
       "      <th>Pregnancies</th>\n",
       "      <th>Glucose</th>\n",
       "      <th>BloodPressure</th>\n",
       "      <th>SkinThickness</th>\n",
       "      <th>Insulin</th>\n",
       "      <th>BMI</th>\n",
       "      <th>DiabetesPedigreeFunction</th>\n",
       "      <th>Age</th>\n",
       "      <th>Outcome</th>\n",
       "    </tr>\n",
       "  </thead>\n",
       "  <tbody>\n",
       "    <tr>\n",
       "      <th>count</th>\n",
       "      <td>768.000000</td>\n",
       "      <td>768.000000</td>\n",
       "      <td>768.000000</td>\n",
       "      <td>768.000000</td>\n",
       "      <td>768.000000</td>\n",
       "      <td>768.000000</td>\n",
       "      <td>768.000000</td>\n",
       "      <td>768.000000</td>\n",
       "      <td>768.000000</td>\n",
       "    </tr>\n",
       "    <tr>\n",
       "      <th>mean</th>\n",
       "      <td>3.845052</td>\n",
       "      <td>120.894531</td>\n",
       "      <td>69.105469</td>\n",
       "      <td>20.536458</td>\n",
       "      <td>79.799479</td>\n",
       "      <td>31.992578</td>\n",
       "      <td>0.471876</td>\n",
       "      <td>33.240885</td>\n",
       "      <td>0.348958</td>\n",
       "    </tr>\n",
       "    <tr>\n",
       "      <th>std</th>\n",
       "      <td>3.369578</td>\n",
       "      <td>31.972618</td>\n",
       "      <td>19.355807</td>\n",
       "      <td>15.952218</td>\n",
       "      <td>115.244002</td>\n",
       "      <td>7.884160</td>\n",
       "      <td>0.331329</td>\n",
       "      <td>11.760232</td>\n",
       "      <td>0.476951</td>\n",
       "    </tr>\n",
       "    <tr>\n",
       "      <th>min</th>\n",
       "      <td>0.000000</td>\n",
       "      <td>0.000000</td>\n",
       "      <td>0.000000</td>\n",
       "      <td>0.000000</td>\n",
       "      <td>0.000000</td>\n",
       "      <td>0.000000</td>\n",
       "      <td>0.078000</td>\n",
       "      <td>21.000000</td>\n",
       "      <td>0.000000</td>\n",
       "    </tr>\n",
       "    <tr>\n",
       "      <th>25%</th>\n",
       "      <td>1.000000</td>\n",
       "      <td>99.000000</td>\n",
       "      <td>62.000000</td>\n",
       "      <td>0.000000</td>\n",
       "      <td>0.000000</td>\n",
       "      <td>27.300000</td>\n",
       "      <td>0.243750</td>\n",
       "      <td>24.000000</td>\n",
       "      <td>0.000000</td>\n",
       "    </tr>\n",
       "    <tr>\n",
       "      <th>50%</th>\n",
       "      <td>3.000000</td>\n",
       "      <td>117.000000</td>\n",
       "      <td>72.000000</td>\n",
       "      <td>23.000000</td>\n",
       "      <td>30.500000</td>\n",
       "      <td>32.000000</td>\n",
       "      <td>0.372500</td>\n",
       "      <td>29.000000</td>\n",
       "      <td>0.000000</td>\n",
       "    </tr>\n",
       "    <tr>\n",
       "      <th>75%</th>\n",
       "      <td>6.000000</td>\n",
       "      <td>140.250000</td>\n",
       "      <td>80.000000</td>\n",
       "      <td>32.000000</td>\n",
       "      <td>127.250000</td>\n",
       "      <td>36.600000</td>\n",
       "      <td>0.626250</td>\n",
       "      <td>41.000000</td>\n",
       "      <td>1.000000</td>\n",
       "    </tr>\n",
       "    <tr>\n",
       "      <th>max</th>\n",
       "      <td>17.000000</td>\n",
       "      <td>199.000000</td>\n",
       "      <td>122.000000</td>\n",
       "      <td>99.000000</td>\n",
       "      <td>846.000000</td>\n",
       "      <td>67.100000</td>\n",
       "      <td>2.420000</td>\n",
       "      <td>81.000000</td>\n",
       "      <td>1.000000</td>\n",
       "    </tr>\n",
       "  </tbody>\n",
       "</table>\n",
       "</div>"
      ],
      "text/plain": [
       "       Pregnancies     Glucose  BloodPressure  SkinThickness     Insulin  \\\n",
       "count   768.000000  768.000000     768.000000     768.000000  768.000000   \n",
       "mean      3.845052  120.894531      69.105469      20.536458   79.799479   \n",
       "std       3.369578   31.972618      19.355807      15.952218  115.244002   \n",
       "min       0.000000    0.000000       0.000000       0.000000    0.000000   \n",
       "25%       1.000000   99.000000      62.000000       0.000000    0.000000   \n",
       "50%       3.000000  117.000000      72.000000      23.000000   30.500000   \n",
       "75%       6.000000  140.250000      80.000000      32.000000  127.250000   \n",
       "max      17.000000  199.000000     122.000000      99.000000  846.000000   \n",
       "\n",
       "              BMI  DiabetesPedigreeFunction         Age     Outcome  \n",
       "count  768.000000                768.000000  768.000000  768.000000  \n",
       "mean    31.992578                  0.471876   33.240885    0.348958  \n",
       "std      7.884160                  0.331329   11.760232    0.476951  \n",
       "min      0.000000                  0.078000   21.000000    0.000000  \n",
       "25%     27.300000                  0.243750   24.000000    0.000000  \n",
       "50%     32.000000                  0.372500   29.000000    0.000000  \n",
       "75%     36.600000                  0.626250   41.000000    1.000000  \n",
       "max     67.100000                  2.420000   81.000000    1.000000  "
      ]
     },
     "execution_count": 8,
     "metadata": {},
     "output_type": "execute_result"
    }
   ],
   "source": [
    "diabetes.describe() "
   ]
  },
  {
   "cell_type": "code",
   "execution_count": 9,
   "metadata": {
    "colab": {
     "base_uri": "https://localhost:8080/",
     "height": 356
    },
    "id": "oqvloIDA4VIk",
    "outputId": "c27e6520-826c-4020-8295-4a5eef2938b7"
   },
   "outputs": [
    {
     "data": {
      "text/html": [
       "<div>\n",
       "<style scoped>\n",
       "    .dataframe tbody tr th:only-of-type {\n",
       "        vertical-align: middle;\n",
       "    }\n",
       "\n",
       "    .dataframe tbody tr th {\n",
       "        vertical-align: top;\n",
       "    }\n",
       "\n",
       "    .dataframe thead th {\n",
       "        text-align: right;\n",
       "    }\n",
       "</style>\n",
       "<table border=\"1\" class=\"dataframe\">\n",
       "  <thead>\n",
       "    <tr style=\"text-align: right;\">\n",
       "      <th></th>\n",
       "      <th>Pregnancies</th>\n",
       "      <th>Glucose</th>\n",
       "      <th>BloodPressure</th>\n",
       "      <th>SkinThickness</th>\n",
       "      <th>Insulin</th>\n",
       "      <th>BMI</th>\n",
       "      <th>DiabetesPedigreeFunction</th>\n",
       "      <th>Age</th>\n",
       "      <th>Outcome</th>\n",
       "    </tr>\n",
       "  </thead>\n",
       "  <tbody>\n",
       "    <tr>\n",
       "      <th>0</th>\n",
       "      <td>6</td>\n",
       "      <td>148</td>\n",
       "      <td>72</td>\n",
       "      <td>35</td>\n",
       "      <td>0</td>\n",
       "      <td>33.6</td>\n",
       "      <td>0.627</td>\n",
       "      <td>50</td>\n",
       "      <td>1</td>\n",
       "    </tr>\n",
       "    <tr>\n",
       "      <th>1</th>\n",
       "      <td>1</td>\n",
       "      <td>85</td>\n",
       "      <td>66</td>\n",
       "      <td>29</td>\n",
       "      <td>0</td>\n",
       "      <td>26.6</td>\n",
       "      <td>0.351</td>\n",
       "      <td>31</td>\n",
       "      <td>0</td>\n",
       "    </tr>\n",
       "    <tr>\n",
       "      <th>2</th>\n",
       "      <td>8</td>\n",
       "      <td>183</td>\n",
       "      <td>64</td>\n",
       "      <td>0</td>\n",
       "      <td>0</td>\n",
       "      <td>23.3</td>\n",
       "      <td>0.672</td>\n",
       "      <td>32</td>\n",
       "      <td>1</td>\n",
       "    </tr>\n",
       "    <tr>\n",
       "      <th>3</th>\n",
       "      <td>1</td>\n",
       "      <td>89</td>\n",
       "      <td>66</td>\n",
       "      <td>23</td>\n",
       "      <td>94</td>\n",
       "      <td>28.1</td>\n",
       "      <td>0.167</td>\n",
       "      <td>21</td>\n",
       "      <td>0</td>\n",
       "    </tr>\n",
       "    <tr>\n",
       "      <th>4</th>\n",
       "      <td>0</td>\n",
       "      <td>137</td>\n",
       "      <td>40</td>\n",
       "      <td>35</td>\n",
       "      <td>168</td>\n",
       "      <td>43.1</td>\n",
       "      <td>2.288</td>\n",
       "      <td>33</td>\n",
       "      <td>1</td>\n",
       "    </tr>\n",
       "    <tr>\n",
       "      <th>5</th>\n",
       "      <td>5</td>\n",
       "      <td>116</td>\n",
       "      <td>74</td>\n",
       "      <td>0</td>\n",
       "      <td>0</td>\n",
       "      <td>25.6</td>\n",
       "      <td>0.201</td>\n",
       "      <td>30</td>\n",
       "      <td>0</td>\n",
       "    </tr>\n",
       "    <tr>\n",
       "      <th>6</th>\n",
       "      <td>3</td>\n",
       "      <td>78</td>\n",
       "      <td>50</td>\n",
       "      <td>32</td>\n",
       "      <td>88</td>\n",
       "      <td>31.0</td>\n",
       "      <td>0.248</td>\n",
       "      <td>26</td>\n",
       "      <td>1</td>\n",
       "    </tr>\n",
       "    <tr>\n",
       "      <th>7</th>\n",
       "      <td>10</td>\n",
       "      <td>115</td>\n",
       "      <td>0</td>\n",
       "      <td>0</td>\n",
       "      <td>0</td>\n",
       "      <td>35.3</td>\n",
       "      <td>0.134</td>\n",
       "      <td>29</td>\n",
       "      <td>0</td>\n",
       "    </tr>\n",
       "    <tr>\n",
       "      <th>8</th>\n",
       "      <td>2</td>\n",
       "      <td>197</td>\n",
       "      <td>70</td>\n",
       "      <td>45</td>\n",
       "      <td>543</td>\n",
       "      <td>30.5</td>\n",
       "      <td>0.158</td>\n",
       "      <td>53</td>\n",
       "      <td>1</td>\n",
       "    </tr>\n",
       "    <tr>\n",
       "      <th>9</th>\n",
       "      <td>8</td>\n",
       "      <td>125</td>\n",
       "      <td>96</td>\n",
       "      <td>0</td>\n",
       "      <td>0</td>\n",
       "      <td>0.0</td>\n",
       "      <td>0.232</td>\n",
       "      <td>54</td>\n",
       "      <td>1</td>\n",
       "    </tr>\n",
       "  </tbody>\n",
       "</table>\n",
       "</div>"
      ],
      "text/plain": [
       "   Pregnancies  Glucose  BloodPressure  SkinThickness  Insulin   BMI  \\\n",
       "0            6      148             72             35        0  33.6   \n",
       "1            1       85             66             29        0  26.6   \n",
       "2            8      183             64              0        0  23.3   \n",
       "3            1       89             66             23       94  28.1   \n",
       "4            0      137             40             35      168  43.1   \n",
       "5            5      116             74              0        0  25.6   \n",
       "6            3       78             50             32       88  31.0   \n",
       "7           10      115              0              0        0  35.3   \n",
       "8            2      197             70             45      543  30.5   \n",
       "9            8      125             96              0        0   0.0   \n",
       "\n",
       "   DiabetesPedigreeFunction  Age  Outcome  \n",
       "0                     0.627   50        1  \n",
       "1                     0.351   31        0  \n",
       "2                     0.672   32        1  \n",
       "3                     0.167   21        0  \n",
       "4                     2.288   33        1  \n",
       "5                     0.201   30        0  \n",
       "6                     0.248   26        1  \n",
       "7                     0.134   29        0  \n",
       "8                     0.158   53        1  \n",
       "9                     0.232   54        1  "
      ]
     },
     "execution_count": 9,
     "metadata": {},
     "output_type": "execute_result"
    }
   ],
   "source": [
    "diabetes.head(10) "
   ]
  },
  {
   "cell_type": "code",
   "execution_count": 10,
   "metadata": {
    "id": "470I_IBf4nWB"
   },
   "outputs": [],
   "source": [
    "data = diabetes.drop(['Pregnancies', 'Outcome'], axis = 1) "
   ]
  },
  {
   "cell_type": "code",
   "execution_count": 11,
   "metadata": {
    "id": "T27TFWel5rE0"
   },
   "outputs": [],
   "source": [
    "# Replacing 0 with nan values\n",
    "data.replace(0, np.nan, inplace = True)"
   ]
  },
  {
   "cell_type": "code",
   "execution_count": 12,
   "metadata": {
    "colab": {
     "base_uri": "https://localhost:8080/"
    },
    "id": "AyiPH-Vc55MN",
    "outputId": "654b19a3-1188-4694-ffea-175cb3dd77df"
   },
   "outputs": [
    {
     "data": {
      "text/plain": [
       "Insulin                     374\n",
       "SkinThickness               227\n",
       "BloodPressure                35\n",
       "BMI                          11\n",
       "Glucose                       5\n",
       "Age                           0\n",
       "DiabetesPedigreeFunction      0\n",
       "dtype: int64"
      ]
     },
     "execution_count": 12,
     "metadata": {},
     "output_type": "execute_result"
    }
   ],
   "source": [
    "data.isnull().sum().sort_values(ascending = False)"
   ]
  },
  {
   "cell_type": "markdown",
   "metadata": {
    "id": "aabSaC8f6QeD"
   },
   "source": [
    "**Handling Missing Values**"
   ]
  },
  {
   "cell_type": "code",
   "execution_count": 13,
   "metadata": {
    "colab": {
     "base_uri": "https://localhost:8080/"
    },
    "id": "jQDfxCPo6Hf7",
    "outputId": "5d39f1a4-d100-4a0a-855c-62e2ac1b5230"
   },
   "outputs": [
    {
     "data": {
      "text/plain": [
       "array([ nan,  94., 168.,  88., 543., 846., 175., 230.,  83.,  96., 235.,\n",
       "       146., 115., 140., 110., 245.,  54., 192., 207.,  70., 240.,  82.,\n",
       "        36.,  23., 300., 342., 304., 142., 128.,  38., 100.,  90., 270.,\n",
       "        71., 125., 176.,  48.,  64., 228.,  76., 220.,  40., 152.,  18.,\n",
       "       135., 495.,  37.,  51.,  99., 145., 225.,  49.,  50.,  92., 325.,\n",
       "        63., 284., 119., 204., 155., 485.,  53., 114., 105., 285., 156.,\n",
       "        78., 130.,  55.,  58., 160., 210., 318.,  44., 190., 280.,  87.,\n",
       "       271., 129., 120., 478.,  56.,  32., 744., 370.,  45., 194., 680.,\n",
       "       402., 258., 375., 150.,  67.,  57., 116., 278., 122., 545.,  75.,\n",
       "        74., 182., 360., 215., 184.,  42., 132., 148., 180., 205.,  85.,\n",
       "       231.,  29.,  68.,  52., 255., 171.,  73., 108.,  43., 167., 249.,\n",
       "       293.,  66., 465.,  89., 158.,  84.,  72.,  59.,  81., 196., 415.,\n",
       "       275., 165., 579., 310.,  61., 474., 170., 277.,  60.,  14.,  95.,\n",
       "       237., 191., 328., 250., 480., 265., 193.,  79.,  86., 326., 188.,\n",
       "       106.,  65., 166., 274.,  77., 126., 330., 600., 185.,  25.,  41.,\n",
       "       272., 321., 144.,  15., 183.,  91.,  46., 440., 159., 540., 200.,\n",
       "       335., 387.,  22., 291., 392., 178., 127., 510.,  16., 112.])"
      ]
     },
     "execution_count": 13,
     "metadata": {},
     "output_type": "execute_result"
    }
   ],
   "source": [
    "data['Insulin'].unique() "
   ]
  },
  {
   "cell_type": "code",
   "execution_count": 14,
   "metadata": {
    "colab": {
     "base_uri": "https://localhost:8080/"
    },
    "id": "ZL3XhsY36YXW",
    "outputId": "4d3b36a8-4d62-47ba-cf33-b98c9bec66ab"
   },
   "outputs": [
    {
     "data": {
      "text/plain": [
       "array([35., 29., nan, 23., 32., 45., 19., 47., 38., 30., 41., 33., 26.,\n",
       "       15., 36., 11., 31., 37., 42., 25., 18., 24., 39., 27., 21., 34.,\n",
       "       10., 60., 13., 20., 22., 28., 54., 40., 51., 56., 14., 17., 50.,\n",
       "       44., 12., 46., 16.,  7., 52., 43., 48.,  8., 49., 63., 99.])"
      ]
     },
     "execution_count": 14,
     "metadata": {},
     "output_type": "execute_result"
    }
   ],
   "source": [
    "data['SkinThickness'].unique() "
   ]
  },
  {
   "cell_type": "code",
   "execution_count": 15,
   "metadata": {
    "colab": {
     "base_uri": "https://localhost:8080/"
    },
    "id": "7Y0aop-7619z",
    "outputId": "6dba3de4-73da-4811-ebaa-994f47d42a9f"
   },
   "outputs": [
    {
     "data": {
      "text/plain": [
       "155.5482233502538"
      ]
     },
     "execution_count": 15,
     "metadata": {},
     "output_type": "execute_result"
    }
   ],
   "source": [
    "# If Data is continious replace by Mean, if data is discrete - replace by Median \n",
    "data['Insulin'].mean() "
   ]
  },
  {
   "cell_type": "code",
   "execution_count": 16,
   "metadata": {
    "id": "bOjasPLO7SNH"
   },
   "outputs": [],
   "source": [
    "data['Insulin'].replace(np.nan, np.round(data['Insulin'].mean()), inplace = True) "
   ]
  },
  {
   "cell_type": "markdown",
   "metadata": {
    "id": "yih-PMcQ7l9E"
   },
   "source": [
    "### Imputer"
   ]
  },
  {
   "cell_type": "code",
   "execution_count": 17,
   "metadata": {
    "id": "eKiXAQ967hqd"
   },
   "outputs": [],
   "source": [
    "from sklearn.impute import SimpleImputer\n",
    "# strategy = \"median\" & \"mean\"\n",
    "impute = SimpleImputer(strategy = 'median')\n",
    "data_array = impute.fit_transform(data)"
   ]
  },
  {
   "cell_type": "code",
   "execution_count": 18,
   "metadata": {
    "colab": {
     "base_uri": "https://localhost:8080/"
    },
    "id": "kWIdKBxC8NP7",
    "outputId": "323f76a2-240f-487c-89a5-e3e7200c6612"
   },
   "outputs": [
    {
     "data": {
      "text/plain": [
       "array([[148.   ,  72.   ,  35.   , ...,  33.6  ,   0.627,  50.   ],\n",
       "       [ 85.   ,  66.   ,  29.   , ...,  26.6  ,   0.351,  31.   ],\n",
       "       [183.   ,  64.   ,  29.   , ...,  23.3  ,   0.672,  32.   ],\n",
       "       ...,\n",
       "       [121.   ,  72.   ,  23.   , ...,  26.2  ,   0.245,  30.   ],\n",
       "       [126.   ,  60.   ,  29.   , ...,  30.1  ,   0.349,  47.   ],\n",
       "       [ 93.   ,  70.   ,  31.   , ...,  30.4  ,   0.315,  23.   ]])"
      ]
     },
     "execution_count": 18,
     "metadata": {},
     "output_type": "execute_result"
    }
   ],
   "source": [
    "data_array "
   ]
  },
  {
   "cell_type": "code",
   "execution_count": 19,
   "metadata": {
    "colab": {
     "base_uri": "https://localhost:8080/",
     "height": 415
    },
    "id": "FrzYW8DT8Slv",
    "outputId": "3cf83533-0e95-49c3-db1b-b0b05fa8a198"
   },
   "outputs": [
    {
     "data": {
      "text/html": [
       "<div>\n",
       "<style scoped>\n",
       "    .dataframe tbody tr th:only-of-type {\n",
       "        vertical-align: middle;\n",
       "    }\n",
       "\n",
       "    .dataframe tbody tr th {\n",
       "        vertical-align: top;\n",
       "    }\n",
       "\n",
       "    .dataframe thead th {\n",
       "        text-align: right;\n",
       "    }\n",
       "</style>\n",
       "<table border=\"1\" class=\"dataframe\">\n",
       "  <thead>\n",
       "    <tr style=\"text-align: right;\">\n",
       "      <th></th>\n",
       "      <th>Glucose</th>\n",
       "      <th>BloodPressure</th>\n",
       "      <th>SkinThickness</th>\n",
       "      <th>Insulin</th>\n",
       "      <th>BMI</th>\n",
       "      <th>DiabetesPedigreeFunction</th>\n",
       "      <th>Age</th>\n",
       "    </tr>\n",
       "  </thead>\n",
       "  <tbody>\n",
       "    <tr>\n",
       "      <th>0</th>\n",
       "      <td>148.0</td>\n",
       "      <td>72.0</td>\n",
       "      <td>35.0</td>\n",
       "      <td>156.0</td>\n",
       "      <td>33.6</td>\n",
       "      <td>0.627</td>\n",
       "      <td>50.0</td>\n",
       "    </tr>\n",
       "    <tr>\n",
       "      <th>1</th>\n",
       "      <td>85.0</td>\n",
       "      <td>66.0</td>\n",
       "      <td>29.0</td>\n",
       "      <td>156.0</td>\n",
       "      <td>26.6</td>\n",
       "      <td>0.351</td>\n",
       "      <td>31.0</td>\n",
       "    </tr>\n",
       "    <tr>\n",
       "      <th>2</th>\n",
       "      <td>183.0</td>\n",
       "      <td>64.0</td>\n",
       "      <td>29.0</td>\n",
       "      <td>156.0</td>\n",
       "      <td>23.3</td>\n",
       "      <td>0.672</td>\n",
       "      <td>32.0</td>\n",
       "    </tr>\n",
       "    <tr>\n",
       "      <th>3</th>\n",
       "      <td>89.0</td>\n",
       "      <td>66.0</td>\n",
       "      <td>23.0</td>\n",
       "      <td>94.0</td>\n",
       "      <td>28.1</td>\n",
       "      <td>0.167</td>\n",
       "      <td>21.0</td>\n",
       "    </tr>\n",
       "    <tr>\n",
       "      <th>4</th>\n",
       "      <td>137.0</td>\n",
       "      <td>40.0</td>\n",
       "      <td>35.0</td>\n",
       "      <td>168.0</td>\n",
       "      <td>43.1</td>\n",
       "      <td>2.288</td>\n",
       "      <td>33.0</td>\n",
       "    </tr>\n",
       "    <tr>\n",
       "      <th>...</th>\n",
       "      <td>...</td>\n",
       "      <td>...</td>\n",
       "      <td>...</td>\n",
       "      <td>...</td>\n",
       "      <td>...</td>\n",
       "      <td>...</td>\n",
       "      <td>...</td>\n",
       "    </tr>\n",
       "    <tr>\n",
       "      <th>763</th>\n",
       "      <td>101.0</td>\n",
       "      <td>76.0</td>\n",
       "      <td>48.0</td>\n",
       "      <td>180.0</td>\n",
       "      <td>32.9</td>\n",
       "      <td>0.171</td>\n",
       "      <td>63.0</td>\n",
       "    </tr>\n",
       "    <tr>\n",
       "      <th>764</th>\n",
       "      <td>122.0</td>\n",
       "      <td>70.0</td>\n",
       "      <td>27.0</td>\n",
       "      <td>156.0</td>\n",
       "      <td>36.8</td>\n",
       "      <td>0.340</td>\n",
       "      <td>27.0</td>\n",
       "    </tr>\n",
       "    <tr>\n",
       "      <th>765</th>\n",
       "      <td>121.0</td>\n",
       "      <td>72.0</td>\n",
       "      <td>23.0</td>\n",
       "      <td>112.0</td>\n",
       "      <td>26.2</td>\n",
       "      <td>0.245</td>\n",
       "      <td>30.0</td>\n",
       "    </tr>\n",
       "    <tr>\n",
       "      <th>766</th>\n",
       "      <td>126.0</td>\n",
       "      <td>60.0</td>\n",
       "      <td>29.0</td>\n",
       "      <td>156.0</td>\n",
       "      <td>30.1</td>\n",
       "      <td>0.349</td>\n",
       "      <td>47.0</td>\n",
       "    </tr>\n",
       "    <tr>\n",
       "      <th>767</th>\n",
       "      <td>93.0</td>\n",
       "      <td>70.0</td>\n",
       "      <td>31.0</td>\n",
       "      <td>156.0</td>\n",
       "      <td>30.4</td>\n",
       "      <td>0.315</td>\n",
       "      <td>23.0</td>\n",
       "    </tr>\n",
       "  </tbody>\n",
       "</table>\n",
       "<p>768 rows × 7 columns</p>\n",
       "</div>"
      ],
      "text/plain": [
       "     Glucose  BloodPressure  SkinThickness  Insulin   BMI  \\\n",
       "0      148.0           72.0           35.0    156.0  33.6   \n",
       "1       85.0           66.0           29.0    156.0  26.6   \n",
       "2      183.0           64.0           29.0    156.0  23.3   \n",
       "3       89.0           66.0           23.0     94.0  28.1   \n",
       "4      137.0           40.0           35.0    168.0  43.1   \n",
       "..       ...            ...            ...      ...   ...   \n",
       "763    101.0           76.0           48.0    180.0  32.9   \n",
       "764    122.0           70.0           27.0    156.0  36.8   \n",
       "765    121.0           72.0           23.0    112.0  26.2   \n",
       "766    126.0           60.0           29.0    156.0  30.1   \n",
       "767     93.0           70.0           31.0    156.0  30.4   \n",
       "\n",
       "     DiabetesPedigreeFunction   Age  \n",
       "0                       0.627  50.0  \n",
       "1                       0.351  31.0  \n",
       "2                       0.672  32.0  \n",
       "3                       0.167  21.0  \n",
       "4                       2.288  33.0  \n",
       "..                        ...   ...  \n",
       "763                     0.171  63.0  \n",
       "764                     0.340  27.0  \n",
       "765                     0.245  30.0  \n",
       "766                     0.349  47.0  \n",
       "767                     0.315  23.0  \n",
       "\n",
       "[768 rows x 7 columns]"
      ]
     },
     "execution_count": 19,
     "metadata": {},
     "output_type": "execute_result"
    }
   ],
   "source": [
    "diabetes_df = pd.DataFrame(data_array, columns = data.columns)\n",
    "diabetes_df "
   ]
  },
  {
   "cell_type": "code",
   "execution_count": 20,
   "metadata": {
    "id": "ZRBg5WKS9vWA"
   },
   "outputs": [],
   "source": [
    "diabetes_df['Pregnancies'] = diabetes.Pregnancies\n",
    "diabetes_df['Outcome'] = diabetes.Outcome "
   ]
  },
  {
   "cell_type": "code",
   "execution_count": 21,
   "metadata": {
    "colab": {
     "base_uri": "https://localhost:8080/"
    },
    "id": "k0m9-V-8CW-N",
    "outputId": "6312cdf7-ad5b-46c9-edfe-89cf8c17b458"
   },
   "outputs": [
    {
     "data": {
      "text/plain": [
       "Glucose                     0\n",
       "BloodPressure               0\n",
       "SkinThickness               0\n",
       "Insulin                     0\n",
       "BMI                         0\n",
       "DiabetesPedigreeFunction    0\n",
       "Age                         0\n",
       "Pregnancies                 0\n",
       "Outcome                     0\n",
       "dtype: int64"
      ]
     },
     "execution_count": 21,
     "metadata": {},
     "output_type": "execute_result"
    }
   ],
   "source": [
    "diabetes_df.isnull().sum()"
   ]
  },
  {
   "cell_type": "markdown",
   "metadata": {
    "id": "er3qSsUVCkyz"
   },
   "source": [
    "### Data Augmentation\n",
    "* Regenerating new samples using bootstrapping for biased dataset"
   ]
  },
  {
   "cell_type": "code",
   "execution_count": 22,
   "metadata": {
    "colab": {
     "base_uri": "https://localhost:8080/",
     "height": 400
    },
    "id": "m6KleOyxCgO8",
    "outputId": "0943bc87-0be3-46ad-d9d6-05652f3622fe"
   },
   "outputs": [
    {
     "data": {
      "text/plain": [
       "<seaborn.axisgrid.FacetGrid at 0x2cb881eea60>"
      ]
     },
     "execution_count": 22,
     "metadata": {},
     "output_type": "execute_result"
    },
    {
     "data": {
      "image/png": "[encoded data removed]",
      "text/plain": [
       "<Figure size 360x360 with 1 Axes>"
      ]
     },
     "metadata": {
      "needs_background": "light"
     },
     "output_type": "display_data"
    }
   ],
   "source": [
    "sns.catplot(x = 'Outcome', kind = \"count\", data = diabetes_df, palette=\"magma\") "
   ]
  },
  {
   "cell_type": "code",
   "execution_count": 23,
   "metadata": {
    "colab": {
     "base_uri": "https://localhost:8080/"
    },
    "id": "BtLOklnZC-Mw",
    "outputId": "94b4caf2-8acd-4d2b-a0e2-baadafb81c24"
   },
   "outputs": [
    {
     "data": {
      "text/plain": [
       "0    500\n",
       "1    268\n",
       "Name: Outcome, dtype: int64"
      ]
     },
     "execution_count": 23,
     "metadata": {},
     "output_type": "execute_result"
    }
   ],
   "source": [
    "diabetes_df['Outcome'].value_counts()"
   ]
  },
  {
   "cell_type": "code",
   "execution_count": 24,
   "metadata": {
    "id": "mwAE-1-6DWu5"
   },
   "outputs": [],
   "source": [
    "from sklearn.utils import resample\n",
    "df_0 = diabetes_df[diabetes_df['Outcome'] == 0]\n",
    "df_1 = diabetes_df[diabetes_df['Outcome'] == 1]"
   ]
  },
  {
   "cell_type": "code",
   "execution_count": 25,
   "metadata": {
    "id": "u9k8lmC1EMnB"
   },
   "outputs": [],
   "source": [
    "# apply resample\n",
    "df_1_upsample = resample(df_1, n_samples = 500, replace = True, random_state = 123)"
   ]
  },
  {
   "cell_type": "code",
   "execution_count": 26,
   "metadata": {
    "id": "eC54c1IAEsWe"
   },
   "outputs": [],
   "source": [
    "diabetes_df1 = pd.concat([df_0, df_1_upsample])"
   ]
  },
  {
   "cell_type": "code",
   "execution_count": 32,
   "metadata": {
    "colab": {
     "base_uri": "https://localhost:8080/",
     "height": 400
    },
    "id": "oBEOrPDcGYH9",
    "outputId": "2bb9c4c0-41be-44e5-f699-709c24b209b5"
   },
   "outputs": [
    {
     "data": {
      "text/plain": [
       "<seaborn.axisgrid.FacetGrid at 0x2cb834f4af0>"
      ]
     },
     "execution_count": 32,
     "metadata": {},
     "output_type": "execute_result"
    },
    {
     "data": {
      "image/png": "[encoded data removed]",
      "text/plain": [
       "<Figure size 360x360 with 1 Axes>"
      ]
     },
     "metadata": {
      "needs_background": "light"
     },
     "output_type": "display_data"
    }
   ],
   "source": [
    "sns.catplot(x = 'Outcome', kind = \"count\", data = diabetes_df1, palette=\"pastel\") "
   ]
  },
  {
   "cell_type": "markdown",
   "metadata": {
    "id": "_7uiblUoGQg4"
   },
   "source": [
    "**Correlation**"
   ]
  },
  {
   "cell_type": "code",
   "execution_count": 33,
   "metadata": {
    "colab": {
     "base_uri": "https://localhost:8080/",
     "height": 624
    },
    "id": "O6yVinldE3Ac",
    "outputId": "e5245966-9bcc-474b-bf9f-eb88287aa866"
   },
   "outputs": [
    {
     "data": {
      "text/plain": [
       "<AxesSubplot:>"
      ]
     },
     "execution_count": 33,
     "metadata": {},
     "output_type": "execute_result"
    },
    {
     "data": {
      "image/png": "[encoded data removed]",
      "text/plain": [
       "<Figure size 936x576 with 2 Axes>"
      ]
     },
     "metadata": {
      "needs_background": "light"
     },
     "output_type": "display_data"
    }
   ],
   "source": [
    "plt.figure(figsize = (13,8))\n",
    "sns.heatmap(diabetes_df1.corr(), annot = True, cmap = 'RdYlGn')"
   ]
  },
  {
   "cell_type": "markdown",
   "metadata": {
    "id": "GbKrn9_IGgFC"
   },
   "source": [
    "**Cross Validation**"
   ]
  },
  {
   "cell_type": "code",
   "execution_count": 34,
   "metadata": {
    "id": "8nIONUSYGUrc"
   },
   "outputs": [],
   "source": [
    "X = diabetes_df1.drop(['Outcome'], axis = 1)\n",
    "Y = diabetes_df1['Outcome']"
   ]
  },
  {
   "cell_type": "code",
   "execution_count": 35,
   "metadata": {
    "id": "WPotg6NNGrl7"
   },
   "outputs": [],
   "source": [
    "from sklearn.model_selection import train_test_split \n",
    "X_train, X_test, Y_train, Y_test = train_test_split(X, Y, test_size = 0.2, random_state = 2)"
   ]
  },
  {
   "cell_type": "markdown",
   "metadata": {
    "id": "5uW6uXfYH1fH"
   },
   "source": [
    "#### ANN Classification"
   ]
  },
  {
   "cell_type": "code",
   "execution_count": 37,
   "metadata": {
    "id": "zUeoDA6FG9p9"
   },
   "outputs": [],
   "source": [
    "from keras.layers import Dense, Dropout\n",
    "from keras.models import Sequential\n",
    "from keras.optimizers import Adam"
   ]
  },
  {
   "cell_type": "code",
   "execution_count": 29,
   "metadata": {
    "id": "gXDDPttDIUCZ"
   },
   "outputs": [],
   "source": [
    "def build_model():\n",
    "    model = Sequential()\n",
    "\n",
    "    # Input Layer \n",
    "    model.add(Dense(units = 64, activation='relu', input_shape = [len(X.keys())]))\n",
    "    model.add(Dropout(0.2))\n",
    "\n",
    "    # Hidden Layer - I\n",
    "    model.add(Dense(units = 128, activation='relu'))\n",
    "    model.add(Dropout(0.2))\n",
    "\n",
    "    # Hidden Layer - II\n",
    "    model.add(Dense(units = 128, activation='relu'))\n",
    "    model.add(Dropout(0.2))\n",
    "\n",
    "    # Output Layer\n",
    "    model.add(Dense(units = 1, activation='sigmoid'))\n",
    "\n",
    "    # Learning rate for Adam Optimizers\n",
    "    optimizers = Adam(learning_rate = 0.001)\n",
    "\n",
    "    # Model compiler\n",
    "    model.compile(loss = \"binary_crossentropy\", optimizer = optimizers, metrics = ['accuracy'])\n",
    "\n",
    "    return model"
   ]
  },
  {
   "cell_type": "code",
   "execution_count": 30,
   "metadata": {
    "id": "WkAQlBQSLGHL"
   },
   "outputs": [],
   "source": [
    "model = build_model() "
   ]
  },
  {
   "cell_type": "code",
   "execution_count": 31,
   "metadata": {
    "colab": {
     "base_uri": "https://localhost:8080/"
    },
    "id": "TwD2nEAwLM2r",
    "outputId": "95748113-49c0-44d2-c734-8ba690990749"
   },
   "outputs": [
    {
     "name": "stdout",
     "output_type": "stream",
     "text": [
      "Model: \"sequential\"\n",
      "_________________________________________________________________\n",
      "Layer (type)                 Output Shape              Param #   \n",
      "=================================================================\n",
      "dense (Dense)                (None, 64)                576       \n",
      "_________________________________________________________________\n",
      "dropout (Dropout)            (None, 64)                0         \n",
      "_________________________________________________________________\n",
      "dense_1 (Dense)              (None, 128)               8320      \n",
      "_________________________________________________________________\n",
      "dropout_1 (Dropout)          (None, 128)               0         \n",
      "_________________________________________________________________\n",
      "dense_2 (Dense)              (None, 128)               16512     \n",
      "_________________________________________________________________\n",
      "dropout_2 (Dropout)          (None, 128)               0         \n",
      "_________________________________________________________________\n",
      "dense_3 (Dense)              (None, 1)                 129       \n",
      "=================================================================\n",
      "Total params: 25,537\n",
      "Trainable params: 25,537\n",
      "Non-trainable params: 0\n",
      "_________________________________________________________________\n"
     ]
    }
   ],
   "source": [
    "model.summary() "
   ]
  },
  {
   "cell_type": "code",
   "execution_count": 32,
   "metadata": {
    "colab": {
     "base_uri": "https://localhost:8080/"
    },
    "id": "GIEt1TumLODg",
    "outputId": "22a73c65-be4a-45cc-ee7e-8d182ee269d8"
   },
   "outputs": [
    {
     "name": "stdout",
     "output_type": "stream",
     "text": [
      "Epoch 1/500\n",
      "26/26 [==============================] - 17s 31ms/step - loss: 5.5734 - accuracy: 0.5283 - val_loss: 1.0545 - val_accuracy: 0.6250\n",
      "Epoch 2/500\n",
      "26/26 [==============================] - 0s 5ms/step - loss: 1.9211 - accuracy: 0.5729 - val_loss: 0.8534 - val_accuracy: 0.6375\n",
      "Epoch 3/500\n",
      "26/26 [==============================] - 0s 4ms/step - loss: 1.8771 - accuracy: 0.5146 - val_loss: 0.6911 - val_accuracy: 0.6250\n",
      "Epoch 4/500\n",
      "26/26 [==============================] - 0s 4ms/step - loss: 1.1992 - accuracy: 0.5760 - val_loss: 0.6255 - val_accuracy: 0.6687\n",
      "Epoch 5/500\n",
      "26/26 [==============================] - 0s 4ms/step - loss: 1.0510 - accuracy: 0.5725 - val_loss: 0.6199 - val_accuracy: 0.6562\n",
      "Epoch 6/500\n",
      "26/26 [==============================] - 0s 5ms/step - loss: 1.0369 - accuracy: 0.5452 - val_loss: 0.6927 - val_accuracy: 0.6375\n",
      "Epoch 7/500\n",
      "26/26 [==============================] - 0s 5ms/step - loss: 1.0203 - accuracy: 0.5694 - val_loss: 0.6575 - val_accuracy: 0.6438\n",
      "Epoch 8/500\n",
      "26/26 [==============================] - 0s 5ms/step - loss: 0.9356 - accuracy: 0.5381 - val_loss: 0.6184 - val_accuracy: 0.6625\n",
      "Epoch 9/500\n",
      "26/26 [==============================] - 0s 5ms/step - loss: 0.8290 - accuracy: 0.5658 - val_loss: 0.6702 - val_accuracy: 0.6250\n",
      "Epoch 10/500\n",
      "26/26 [==============================] - 0s 4ms/step - loss: 0.7606 - accuracy: 0.5926 - val_loss: 0.6463 - val_accuracy: 0.6438\n",
      "Epoch 11/500\n",
      "26/26 [==============================] - 0s 4ms/step - loss: 0.7035 - accuracy: 0.5865 - val_loss: 0.6025 - val_accuracy: 0.6375\n",
      "Epoch 12/500\n",
      "26/26 [==============================] - 0s 5ms/step - loss: 0.7414 - accuracy: 0.5614 - val_loss: 0.6135 - val_accuracy: 0.6875\n",
      "Epoch 13/500\n",
      "26/26 [==============================] - 0s 4ms/step - loss: 0.6930 - accuracy: 0.6063 - val_loss: 0.6202 - val_accuracy: 0.6562\n",
      "Epoch 14/500\n",
      "26/26 [==============================] - 0s 4ms/step - loss: 0.7111 - accuracy: 0.5945 - val_loss: 0.6134 - val_accuracy: 0.6625\n",
      "Epoch 15/500\n",
      "26/26 [==============================] - 0s 4ms/step - loss: 0.7090 - accuracy: 0.6051 - val_loss: 0.6109 - val_accuracy: 0.6687\n",
      "Epoch 16/500\n",
      "26/26 [==============================] - 0s 4ms/step - loss: 0.6821 - accuracy: 0.6115 - val_loss: 0.6085 - val_accuracy: 0.6812\n",
      "Epoch 17/500\n",
      "26/26 [==============================] - 0s 4ms/step - loss: 0.6627 - accuracy: 0.6645 - val_loss: 0.6160 - val_accuracy: 0.6750\n",
      "Epoch 18/500\n",
      "26/26 [==============================] - 0s 4ms/step - loss: 0.6962 - accuracy: 0.6192 - val_loss: 0.6067 - val_accuracy: 0.6562\n",
      "Epoch 19/500\n",
      "26/26 [==============================] - 0s 5ms/step - loss: 0.7145 - accuracy: 0.6071 - val_loss: 0.6152 - val_accuracy: 0.6562\n",
      "Epoch 20/500\n",
      "26/26 [==============================] - 0s 5ms/step - loss: 0.7184 - accuracy: 0.6206 - val_loss: 0.6160 - val_accuracy: 0.6750\n",
      "Epoch 21/500\n",
      "26/26 [==============================] - 0s 5ms/step - loss: 0.6731 - accuracy: 0.6115 - val_loss: 0.6083 - val_accuracy: 0.7000\n",
      "Epoch 22/500\n",
      "26/26 [==============================] - 0s 4ms/step - loss: 0.6416 - accuracy: 0.6450 - val_loss: 0.6270 - val_accuracy: 0.6875\n",
      "Epoch 23/500\n",
      "26/26 [==============================] - 0s 4ms/step - loss: 0.6501 - accuracy: 0.6262 - val_loss: 0.6180 - val_accuracy: 0.7063\n",
      "Epoch 24/500\n",
      "26/26 [==============================] - 0s 4ms/step - loss: 0.6749 - accuracy: 0.6084 - val_loss: 0.6105 - val_accuracy: 0.7063\n",
      "Epoch 25/500\n",
      "26/26 [==============================] - 0s 4ms/step - loss: 0.6582 - accuracy: 0.6163 - val_loss: 0.6110 - val_accuracy: 0.6938\n",
      "Epoch 26/500\n",
      "26/26 [==============================] - 0s 4ms/step - loss: 0.6311 - accuracy: 0.6674 - val_loss: 0.6091 - val_accuracy: 0.6812\n",
      "Epoch 27/500\n",
      "26/26 [==============================] - 0s 5ms/step - loss: 0.6663 - accuracy: 0.6133 - val_loss: 0.6037 - val_accuracy: 0.7000\n",
      "Epoch 28/500\n",
      "26/26 [==============================] - 0s 5ms/step - loss: 0.6348 - accuracy: 0.6293 - val_loss: 0.5970 - val_accuracy: 0.6750\n",
      "Epoch 29/500\n",
      "26/26 [==============================] - 0s 5ms/step - loss: 0.6421 - accuracy: 0.6477 - val_loss: 0.5889 - val_accuracy: 0.6625\n",
      "Epoch 30/500\n",
      "26/26 [==============================] - 0s 4ms/step - loss: 0.6051 - accuracy: 0.6766 - val_loss: 0.6006 - val_accuracy: 0.6875\n",
      "Epoch 31/500\n",
      "26/26 [==============================] - 0s 4ms/step - loss: 0.6308 - accuracy: 0.6678 - val_loss: 0.5943 - val_accuracy: 0.6687\n",
      "Epoch 32/500\n",
      "26/26 [==============================] - 0s 5ms/step - loss: 0.6265 - accuracy: 0.6543 - val_loss: 0.5855 - val_accuracy: 0.6687\n",
      "Epoch 33/500\n",
      "26/26 [==============================] - 0s 4ms/step - loss: 0.6123 - accuracy: 0.6680 - val_loss: 0.5792 - val_accuracy: 0.6812\n",
      "Epoch 34/500\n",
      "26/26 [==============================] - 0s 4ms/step - loss: 0.6237 - accuracy: 0.6332 - val_loss: 0.5911 - val_accuracy: 0.7063\n",
      "Epoch 35/500\n",
      "26/26 [==============================] - 0s 4ms/step - loss: 0.6312 - accuracy: 0.6390 - val_loss: 0.5956 - val_accuracy: 0.6938\n",
      "Epoch 36/500\n",
      "26/26 [==============================] - 0s 4ms/step - loss: 0.6062 - accuracy: 0.6436 - val_loss: 0.5865 - val_accuracy: 0.7125\n",
      "Epoch 37/500\n",
      "26/26 [==============================] - 0s 4ms/step - loss: 0.6430 - accuracy: 0.6293 - val_loss: 0.5843 - val_accuracy: 0.6750\n",
      "Epoch 38/500\n",
      "26/26 [==============================] - 0s 4ms/step - loss: 0.6208 - accuracy: 0.6756 - val_loss: 0.5719 - val_accuracy: 0.7000\n",
      "Epoch 39/500\n",
      "26/26 [==============================] - 0s 4ms/step - loss: 0.6214 - accuracy: 0.6824 - val_loss: 0.5851 - val_accuracy: 0.6812\n",
      "Epoch 40/500\n",
      "26/26 [==============================] - 0s 4ms/step - loss: 0.6008 - accuracy: 0.6964 - val_loss: 0.5687 - val_accuracy: 0.6812\n",
      "Epoch 41/500\n",
      "26/26 [==============================] - 0s 4ms/step - loss: 0.5948 - accuracy: 0.6819 - val_loss: 0.5778 - val_accuracy: 0.6875\n",
      "Epoch 42/500\n",
      "26/26 [==============================] - 0s 5ms/step - loss: 0.6262 - accuracy: 0.6707 - val_loss: 0.5746 - val_accuracy: 0.7000\n",
      "Epoch 43/500\n",
      "26/26 [==============================] - 0s 4ms/step - loss: 0.5815 - accuracy: 0.6918 - val_loss: 0.5584 - val_accuracy: 0.7000\n",
      "Epoch 44/500\n",
      "26/26 [==============================] - 0s 4ms/step - loss: 0.6124 - accuracy: 0.6829 - val_loss: 0.5697 - val_accuracy: 0.7250\n",
      "Epoch 45/500\n",
      "26/26 [==============================] - 0s 4ms/step - loss: 0.5818 - accuracy: 0.7030 - val_loss: 0.5522 - val_accuracy: 0.7125\n",
      "Epoch 46/500\n",
      "26/26 [==============================] - 0s 4ms/step - loss: 0.5627 - accuracy: 0.7184 - val_loss: 0.5650 - val_accuracy: 0.7000\n",
      "Epoch 47/500\n",
      "26/26 [==============================] - 0s 5ms/step - loss: 0.5849 - accuracy: 0.6951 - val_loss: 0.5568 - val_accuracy: 0.7437\n",
      "Epoch 48/500\n",
      "26/26 [==============================] - 0s 4ms/step - loss: 0.5640 - accuracy: 0.6991 - val_loss: 0.5637 - val_accuracy: 0.6875\n",
      "Epoch 49/500\n",
      "26/26 [==============================] - 0s 4ms/step - loss: 0.5883 - accuracy: 0.7026 - val_loss: 0.5561 - val_accuracy: 0.7063\n",
      "Epoch 50/500\n",
      "26/26 [==============================] - 0s 4ms/step - loss: 0.5847 - accuracy: 0.7053 - val_loss: 0.5614 - val_accuracy: 0.7063\n",
      "Epoch 51/500\n",
      "26/26 [==============================] - 0s 4ms/step - loss: 0.5683 - accuracy: 0.7124 - val_loss: 0.5464 - val_accuracy: 0.7688\n",
      "Epoch 52/500\n",
      "26/26 [==============================] - 0s 4ms/step - loss: 0.5701 - accuracy: 0.7183 - val_loss: 0.5449 - val_accuracy: 0.7000\n",
      "Epoch 53/500\n",
      "26/26 [==============================] - 0s 5ms/step - loss: 0.5910 - accuracy: 0.7168 - val_loss: 0.5669 - val_accuracy: 0.7188\n",
      "Epoch 54/500\n",
      "26/26 [==============================] - 0s 5ms/step - loss: 0.6008 - accuracy: 0.6663 - val_loss: 0.5572 - val_accuracy: 0.7250\n",
      "Epoch 55/500\n",
      "26/26 [==============================] - 0s 5ms/step - loss: 0.5899 - accuracy: 0.6863 - val_loss: 0.5575 - val_accuracy: 0.7250\n",
      "Epoch 56/500\n",
      "26/26 [==============================] - 0s 4ms/step - loss: 0.6330 - accuracy: 0.6867 - val_loss: 0.5532 - val_accuracy: 0.7437\n",
      "Epoch 57/500\n",
      "26/26 [==============================] - 0s 4ms/step - loss: 0.5786 - accuracy: 0.6743 - val_loss: 0.5467 - val_accuracy: 0.7250\n",
      "Epoch 58/500\n",
      "26/26 [==============================] - 0s 4ms/step - loss: 0.5619 - accuracy: 0.7187 - val_loss: 0.5512 - val_accuracy: 0.7188\n",
      "Epoch 59/500\n",
      "26/26 [==============================] - 0s 4ms/step - loss: 0.5693 - accuracy: 0.6952 - val_loss: 0.5338 - val_accuracy: 0.7188\n",
      "Epoch 60/500\n",
      "26/26 [==============================] - 0s 5ms/step - loss: 0.5722 - accuracy: 0.7053 - val_loss: 0.5341 - val_accuracy: 0.7125\n",
      "Epoch 61/500\n",
      "26/26 [==============================] - 0s 4ms/step - loss: 0.5447 - accuracy: 0.7357 - val_loss: 0.5699 - val_accuracy: 0.7125\n",
      "Epoch 62/500\n",
      "26/26 [==============================] - 0s 5ms/step - loss: 0.5845 - accuracy: 0.6841 - val_loss: 0.5431 - val_accuracy: 0.7250\n",
      "Epoch 63/500\n",
      "26/26 [==============================] - 0s 4ms/step - loss: 0.5442 - accuracy: 0.7364 - val_loss: 0.5482 - val_accuracy: 0.7250\n",
      "Epoch 64/500\n",
      "26/26 [==============================] - 0s 4ms/step - loss: 0.5605 - accuracy: 0.7268 - val_loss: 0.5261 - val_accuracy: 0.6938\n",
      "Epoch 65/500\n",
      "26/26 [==============================] - 0s 4ms/step - loss: 0.5445 - accuracy: 0.7269 - val_loss: 0.5359 - val_accuracy: 0.7188\n",
      "Epoch 66/500\n",
      "26/26 [==============================] - 0s 4ms/step - loss: 0.5428 - accuracy: 0.7199 - val_loss: 0.5397 - val_accuracy: 0.6938\n",
      "Epoch 67/500\n",
      "26/26 [==============================] - 0s 5ms/step - loss: 0.5841 - accuracy: 0.6767 - val_loss: 0.5229 - val_accuracy: 0.7188\n",
      "Epoch 68/500\n",
      "26/26 [==============================] - 0s 4ms/step - loss: 0.5298 - accuracy: 0.7544 - val_loss: 0.5278 - val_accuracy: 0.7437\n",
      "Epoch 69/500\n",
      "26/26 [==============================] - 0s 5ms/step - loss: 0.5533 - accuracy: 0.7187 - val_loss: 0.5295 - val_accuracy: 0.7375\n",
      "Epoch 70/500\n",
      "26/26 [==============================] - 0s 6ms/step - loss: 0.5545 - accuracy: 0.7205 - val_loss: 0.5223 - val_accuracy: 0.7437\n",
      "Epoch 71/500\n",
      "26/26 [==============================] - 0s 4ms/step - loss: 0.5630 - accuracy: 0.7235 - val_loss: 0.5350 - val_accuracy: 0.7563\n",
      "Epoch 72/500\n",
      "26/26 [==============================] - 0s 5ms/step - loss: 0.5506 - accuracy: 0.7198 - val_loss: 0.5132 - val_accuracy: 0.7375\n",
      "Epoch 73/500\n",
      "26/26 [==============================] - 0s 5ms/step - loss: 0.5410 - accuracy: 0.7080 - val_loss: 0.5220 - val_accuracy: 0.7500\n",
      "Epoch 74/500\n",
      "26/26 [==============================] - 0s 4ms/step - loss: 0.5662 - accuracy: 0.7084 - val_loss: 0.5270 - val_accuracy: 0.7500\n",
      "Epoch 75/500\n",
      "26/26 [==============================] - 0s 4ms/step - loss: 0.5577 - accuracy: 0.7115 - val_loss: 0.5193 - val_accuracy: 0.7500\n",
      "Epoch 76/500\n",
      "26/26 [==============================] - 0s 4ms/step - loss: 0.5230 - accuracy: 0.7456 - val_loss: 0.5546 - val_accuracy: 0.7437\n",
      "Epoch 77/500\n",
      "26/26 [==============================] - 0s 4ms/step - loss: 0.5094 - accuracy: 0.7861 - val_loss: 0.5405 - val_accuracy: 0.7312\n",
      "Epoch 78/500\n",
      "26/26 [==============================] - 0s 5ms/step - loss: 0.5419 - accuracy: 0.7362 - val_loss: 0.5194 - val_accuracy: 0.7688\n",
      "Epoch 79/500\n",
      "26/26 [==============================] - 0s 5ms/step - loss: 0.5183 - accuracy: 0.7444 - val_loss: 0.5156 - val_accuracy: 0.7250\n",
      "Epoch 80/500\n",
      "26/26 [==============================] - 0s 4ms/step - loss: 0.4976 - accuracy: 0.7651 - val_loss: 0.5420 - val_accuracy: 0.7437\n",
      "Epoch 81/500\n",
      "26/26 [==============================] - 0s 4ms/step - loss: 0.4929 - accuracy: 0.7775 - val_loss: 0.5228 - val_accuracy: 0.7375\n",
      "Epoch 82/500\n",
      "26/26 [==============================] - 0s 4ms/step - loss: 0.5219 - accuracy: 0.7345 - val_loss: 0.5248 - val_accuracy: 0.7563\n",
      "Epoch 83/500\n",
      "26/26 [==============================] - 0s 5ms/step - loss: 0.5285 - accuracy: 0.7445 - val_loss: 0.5166 - val_accuracy: 0.7563\n",
      "Epoch 84/500\n",
      "26/26 [==============================] - 0s 4ms/step - loss: 0.4958 - accuracy: 0.7735 - val_loss: 0.5228 - val_accuracy: 0.7500\n",
      "Epoch 85/500\n",
      "26/26 [==============================] - 0s 5ms/step - loss: 0.5368 - accuracy: 0.7325 - val_loss: 0.5336 - val_accuracy: 0.7563\n",
      "Epoch 86/500\n",
      "26/26 [==============================] - 0s 5ms/step - loss: 0.4804 - accuracy: 0.7645 - val_loss: 0.5176 - val_accuracy: 0.7000\n",
      "Epoch 87/500\n",
      "26/26 [==============================] - 0s 5ms/step - loss: 0.5101 - accuracy: 0.7531 - val_loss: 0.5225 - val_accuracy: 0.7437\n",
      "Epoch 88/500\n",
      "26/26 [==============================] - 0s 4ms/step - loss: 0.5220 - accuracy: 0.7520 - val_loss: 0.5243 - val_accuracy: 0.7563\n",
      "Epoch 89/500\n",
      "26/26 [==============================] - 0s 4ms/step - loss: 0.5397 - accuracy: 0.7377 - val_loss: 0.5285 - val_accuracy: 0.7563\n",
      "Epoch 90/500\n",
      "26/26 [==============================] - 0s 5ms/step - loss: 0.5439 - accuracy: 0.7239 - val_loss: 0.5337 - val_accuracy: 0.7437\n",
      "Epoch 91/500\n",
      "26/26 [==============================] - 0s 5ms/step - loss: 0.4962 - accuracy: 0.7680 - val_loss: 0.5120 - val_accuracy: 0.7312\n",
      "Epoch 92/500\n",
      "26/26 [==============================] - 0s 5ms/step - loss: 0.5002 - accuracy: 0.7486 - val_loss: 0.5335 - val_accuracy: 0.7437\n",
      "Epoch 93/500\n",
      "26/26 [==============================] - 0s 5ms/step - loss: 0.4957 - accuracy: 0.7469 - val_loss: 0.5243 - val_accuracy: 0.7563\n",
      "Epoch 94/500\n",
      "26/26 [==============================] - 0s 5ms/step - loss: 0.5205 - accuracy: 0.7705 - val_loss: 0.5183 - val_accuracy: 0.7063\n",
      "Epoch 95/500\n",
      "26/26 [==============================] - 0s 4ms/step - loss: 0.5054 - accuracy: 0.7624 - val_loss: 0.5135 - val_accuracy: 0.7250\n",
      "Epoch 96/500\n",
      "26/26 [==============================] - 0s 5ms/step - loss: 0.5203 - accuracy: 0.7247 - val_loss: 0.5138 - val_accuracy: 0.7375\n",
      "Epoch 97/500\n",
      "26/26 [==============================] - 0s 5ms/step - loss: 0.4656 - accuracy: 0.7814 - val_loss: 0.5196 - val_accuracy: 0.7375\n",
      "Epoch 98/500\n",
      "26/26 [==============================] - 0s 4ms/step - loss: 0.5229 - accuracy: 0.7250 - val_loss: 0.5226 - val_accuracy: 0.7437\n",
      "Epoch 99/500\n",
      "26/26 [==============================] - 0s 4ms/step - loss: 0.5172 - accuracy: 0.7285 - val_loss: 0.5232 - val_accuracy: 0.7375\n",
      "Epoch 100/500\n",
      "26/26 [==============================] - 0s 4ms/step - loss: 0.5117 - accuracy: 0.7282 - val_loss: 0.5160 - val_accuracy: 0.7375\n",
      "Epoch 101/500\n",
      "26/26 [==============================] - 0s 4ms/step - loss: 0.4659 - accuracy: 0.7815 - val_loss: 0.5206 - val_accuracy: 0.7063\n",
      "Epoch 102/500\n",
      "26/26 [==============================] - 0s 4ms/step - loss: 0.5484 - accuracy: 0.7453 - val_loss: 0.5277 - val_accuracy: 0.7625\n",
      "Epoch 103/500\n",
      "26/26 [==============================] - 0s 5ms/step - loss: 0.4624 - accuracy: 0.8113 - val_loss: 0.5284 - val_accuracy: 0.7437\n",
      "Epoch 104/500\n",
      "26/26 [==============================] - 0s 6ms/step - loss: 0.4782 - accuracy: 0.7611 - val_loss: 0.5446 - val_accuracy: 0.7000\n",
      "Epoch 105/500\n",
      "26/26 [==============================] - 0s 5ms/step - loss: 0.4961 - accuracy: 0.7543 - val_loss: 0.5266 - val_accuracy: 0.7375\n",
      "Epoch 106/500\n",
      "26/26 [==============================] - 0s 5ms/step - loss: 0.5314 - accuracy: 0.7417 - val_loss: 0.5360 - val_accuracy: 0.7437\n",
      "Epoch 107/500\n",
      "26/26 [==============================] - 0s 4ms/step - loss: 0.4983 - accuracy: 0.7601 - val_loss: 0.5252 - val_accuracy: 0.7437\n",
      "Epoch 108/500\n",
      "26/26 [==============================] - 0s 4ms/step - loss: 0.4616 - accuracy: 0.7939 - val_loss: 0.5198 - val_accuracy: 0.7500\n",
      "Epoch 109/500\n",
      "26/26 [==============================] - 0s 4ms/step - loss: 0.5221 - accuracy: 0.7351 - val_loss: 0.5161 - val_accuracy: 0.7437\n",
      "Epoch 110/500\n",
      "26/26 [==============================] - 0s 4ms/step - loss: 0.5311 - accuracy: 0.7028 - val_loss: 0.4964 - val_accuracy: 0.7563\n",
      "Epoch 111/500\n",
      "26/26 [==============================] - 0s 5ms/step - loss: 0.5187 - accuracy: 0.7547 - val_loss: 0.5679 - val_accuracy: 0.7188\n",
      "Epoch 112/500\n",
      "26/26 [==============================] - 0s 4ms/step - loss: 0.4742 - accuracy: 0.7667 - val_loss: 0.5196 - val_accuracy: 0.7437\n",
      "Epoch 113/500\n",
      "26/26 [==============================] - 0s 4ms/step - loss: 0.4817 - accuracy: 0.7664 - val_loss: 0.5221 - val_accuracy: 0.7188\n",
      "Epoch 114/500\n",
      "26/26 [==============================] - 0s 4ms/step - loss: 0.5179 - accuracy: 0.7356 - val_loss: 0.5482 - val_accuracy: 0.7437\n",
      "Epoch 115/500\n",
      "26/26 [==============================] - 0s 4ms/step - loss: 0.4938 - accuracy: 0.7657 - val_loss: 0.5216 - val_accuracy: 0.7375\n",
      "Epoch 116/500\n",
      "26/26 [==============================] - 0s 4ms/step - loss: 0.4667 - accuracy: 0.7767 - val_loss: 0.5211 - val_accuracy: 0.7125\n",
      "Epoch 117/500\n",
      "26/26 [==============================] - 0s 4ms/step - loss: 0.4955 - accuracy: 0.7571 - val_loss: 0.5119 - val_accuracy: 0.7688\n",
      "Epoch 118/500\n",
      "26/26 [==============================] - 0s 4ms/step - loss: 0.4950 - accuracy: 0.7606 - val_loss: 0.5308 - val_accuracy: 0.7563\n",
      "Epoch 119/500\n",
      "26/26 [==============================] - 0s 4ms/step - loss: 0.4859 - accuracy: 0.7572 - val_loss: 0.5145 - val_accuracy: 0.7312\n",
      "Epoch 120/500\n",
      "26/26 [==============================] - 0s 5ms/step - loss: 0.4751 - accuracy: 0.7900 - val_loss: 0.5110 - val_accuracy: 0.7437\n",
      "Epoch 121/500\n",
      "26/26 [==============================] - 0s 4ms/step - loss: 0.4687 - accuracy: 0.7769 - val_loss: 0.5261 - val_accuracy: 0.7437\n",
      "Epoch 122/500\n",
      "26/26 [==============================] - 0s 4ms/step - loss: 0.4463 - accuracy: 0.7774 - val_loss: 0.5029 - val_accuracy: 0.7375\n",
      "Epoch 123/500\n",
      "26/26 [==============================] - 0s 4ms/step - loss: 0.4588 - accuracy: 0.7569 - val_loss: 0.5213 - val_accuracy: 0.7500\n",
      "Epoch 124/500\n",
      "26/26 [==============================] - 0s 5ms/step - loss: 0.4899 - accuracy: 0.7518 - val_loss: 0.5220 - val_accuracy: 0.7188\n",
      "Epoch 125/500\n",
      "26/26 [==============================] - 0s 4ms/step - loss: 0.4754 - accuracy: 0.7460 - val_loss: 0.5097 - val_accuracy: 0.7563\n",
      "Epoch 126/500\n",
      "26/26 [==============================] - 0s 4ms/step - loss: 0.4552 - accuracy: 0.7744 - val_loss: 0.5393 - val_accuracy: 0.7437\n",
      "Epoch 127/500\n",
      "26/26 [==============================] - 0s 4ms/step - loss: 0.4456 - accuracy: 0.7917 - val_loss: 0.5296 - val_accuracy: 0.6938\n",
      "Epoch 128/500\n",
      "26/26 [==============================] - 0s 4ms/step - loss: 0.4970 - accuracy: 0.7631 - val_loss: 0.5210 - val_accuracy: 0.7312\n",
      "Epoch 129/500\n",
      "26/26 [==============================] - 0s 4ms/step - loss: 0.4605 - accuracy: 0.7817 - val_loss: 0.5408 - val_accuracy: 0.7375\n",
      "Epoch 130/500\n",
      "26/26 [==============================] - 0s 5ms/step - loss: 0.4500 - accuracy: 0.7803 - val_loss: 0.5336 - val_accuracy: 0.7500\n",
      "Epoch 131/500\n",
      "26/26 [==============================] - 0s 4ms/step - loss: 0.4759 - accuracy: 0.7826 - val_loss: 0.5060 - val_accuracy: 0.7625\n",
      "Epoch 132/500\n",
      "26/26 [==============================] - 0s 4ms/step - loss: 0.4837 - accuracy: 0.7598 - val_loss: 0.5278 - val_accuracy: 0.7312\n",
      "Epoch 133/500\n",
      "26/26 [==============================] - 0s 4ms/step - loss: 0.4496 - accuracy: 0.7812 - val_loss: 0.5508 - val_accuracy: 0.7250\n",
      "Epoch 134/500\n",
      "26/26 [==============================] - 0s 5ms/step - loss: 0.4796 - accuracy: 0.7621 - val_loss: 0.5139 - val_accuracy: 0.7563\n",
      "Epoch 135/500\n",
      "26/26 [==============================] - 0s 4ms/step - loss: 0.4875 - accuracy: 0.7719 - val_loss: 0.4900 - val_accuracy: 0.7563\n",
      "Epoch 136/500\n",
      "26/26 [==============================] - 0s 5ms/step - loss: 0.4684 - accuracy: 0.7617 - val_loss: 0.5212 - val_accuracy: 0.7312\n",
      "Epoch 137/500\n",
      "26/26 [==============================] - 0s 4ms/step - loss: 0.4446 - accuracy: 0.7941 - val_loss: 0.5154 - val_accuracy: 0.7312\n",
      "Epoch 138/500\n",
      "26/26 [==============================] - 0s 4ms/step - loss: 0.4500 - accuracy: 0.7724 - val_loss: 0.5096 - val_accuracy: 0.7563\n",
      "Epoch 139/500\n",
      "26/26 [==============================] - 0s 5ms/step - loss: 0.4451 - accuracy: 0.7892 - val_loss: 0.5283 - val_accuracy: 0.7563\n",
      "Epoch 140/500\n",
      "26/26 [==============================] - 0s 4ms/step - loss: 0.4599 - accuracy: 0.7944 - val_loss: 0.5519 - val_accuracy: 0.7625\n",
      "Epoch 141/500\n",
      "26/26 [==============================] - 0s 4ms/step - loss: 0.4329 - accuracy: 0.7711 - val_loss: 0.5285 - val_accuracy: 0.7750\n",
      "Epoch 142/500\n",
      "26/26 [==============================] - 0s 4ms/step - loss: 0.4376 - accuracy: 0.7942 - val_loss: 0.5565 - val_accuracy: 0.7250\n",
      "Epoch 143/500\n",
      "26/26 [==============================] - 0s 5ms/step - loss: 0.4618 - accuracy: 0.7518 - val_loss: 0.5527 - val_accuracy: 0.7312\n",
      "Epoch 144/500\n",
      "26/26 [==============================] - 0s 4ms/step - loss: 0.4416 - accuracy: 0.7989 - val_loss: 0.5290 - val_accuracy: 0.7312\n",
      "Epoch 145/500\n",
      "26/26 [==============================] - 0s 4ms/step - loss: 0.4463 - accuracy: 0.7698 - val_loss: 0.5271 - val_accuracy: 0.7563\n",
      "Epoch 146/500\n",
      "26/26 [==============================] - 0s 4ms/step - loss: 0.4674 - accuracy: 0.7666 - val_loss: 0.5921 - val_accuracy: 0.7000\n",
      "Epoch 147/500\n",
      "26/26 [==============================] - 0s 4ms/step - loss: 0.4576 - accuracy: 0.7774 - val_loss: 0.5630 - val_accuracy: 0.7250\n",
      "Epoch 148/500\n",
      "26/26 [==============================] - 0s 4ms/step - loss: 0.4531 - accuracy: 0.7449 - val_loss: 0.5362 - val_accuracy: 0.7563\n",
      "Epoch 149/500\n",
      "26/26 [==============================] - 0s 4ms/step - loss: 0.4553 - accuracy: 0.7912 - val_loss: 0.5381 - val_accuracy: 0.7500\n",
      "Epoch 150/500\n",
      "26/26 [==============================] - 0s 4ms/step - loss: 0.4639 - accuracy: 0.7785 - val_loss: 0.5455 - val_accuracy: 0.7437\n",
      "Epoch 151/500\n",
      "26/26 [==============================] - 0s 4ms/step - loss: 0.4712 - accuracy: 0.7849 - val_loss: 0.5717 - val_accuracy: 0.7188\n",
      "Epoch 152/500\n",
      "26/26 [==============================] - 0s 5ms/step - loss: 0.4407 - accuracy: 0.7960 - val_loss: 0.5345 - val_accuracy: 0.7437\n",
      "Epoch 153/500\n",
      "26/26 [==============================] - 0s 5ms/step - loss: 0.4322 - accuracy: 0.8041 - val_loss: 0.5423 - val_accuracy: 0.7563\n",
      "Epoch 154/500\n",
      "26/26 [==============================] - 0s 4ms/step - loss: 0.4180 - accuracy: 0.7940 - val_loss: 0.5285 - val_accuracy: 0.7437\n",
      "Epoch 155/500\n",
      "26/26 [==============================] - 0s 4ms/step - loss: 0.4140 - accuracy: 0.8108 - val_loss: 0.5341 - val_accuracy: 0.7312\n",
      "Epoch 156/500\n",
      "26/26 [==============================] - 0s 4ms/step - loss: 0.4102 - accuracy: 0.8143 - val_loss: 0.5687 - val_accuracy: 0.7188\n",
      "Epoch 157/500\n",
      "26/26 [==============================] - 0s 4ms/step - loss: 0.4458 - accuracy: 0.7792 - val_loss: 0.5157 - val_accuracy: 0.7563\n",
      "Epoch 158/500\n",
      "26/26 [==============================] - 0s 4ms/step - loss: 0.4664 - accuracy: 0.7700 - val_loss: 0.5336 - val_accuracy: 0.7312\n",
      "Epoch 159/500\n",
      "26/26 [==============================] - 0s 4ms/step - loss: 0.4480 - accuracy: 0.7632 - val_loss: 0.5386 - val_accuracy: 0.7437\n",
      "Epoch 160/500\n",
      "26/26 [==============================] - 0s 4ms/step - loss: 0.4503 - accuracy: 0.7774 - val_loss: 0.5423 - val_accuracy: 0.7375\n",
      "Epoch 161/500\n",
      "26/26 [==============================] - 0s 4ms/step - loss: 0.4466 - accuracy: 0.7730 - val_loss: 0.5410 - val_accuracy: 0.7500\n",
      "Epoch 162/500\n",
      "26/26 [==============================] - 0s 5ms/step - loss: 0.4397 - accuracy: 0.7806 - val_loss: 0.5027 - val_accuracy: 0.7750\n",
      "Epoch 163/500\n",
      "26/26 [==============================] - 0s 4ms/step - loss: 0.4190 - accuracy: 0.7957 - val_loss: 0.5216 - val_accuracy: 0.7312\n",
      "Epoch 164/500\n",
      "26/26 [==============================] - 0s 4ms/step - loss: 0.4376 - accuracy: 0.7893 - val_loss: 0.5332 - val_accuracy: 0.7625\n",
      "Epoch 165/500\n",
      "26/26 [==============================] - 0s 5ms/step - loss: 0.4329 - accuracy: 0.7992 - val_loss: 0.5328 - val_accuracy: 0.7437\n",
      "Epoch 166/500\n",
      "26/26 [==============================] - 0s 4ms/step - loss: 0.4384 - accuracy: 0.7683 - val_loss: 0.5203 - val_accuracy: 0.7563\n",
      "Epoch 167/500\n",
      "26/26 [==============================] - 0s 5ms/step - loss: 0.4067 - accuracy: 0.7970 - val_loss: 0.5499 - val_accuracy: 0.7688\n",
      "Epoch 168/500\n",
      "26/26 [==============================] - 0s 4ms/step - loss: 0.4248 - accuracy: 0.8007 - val_loss: 0.5205 - val_accuracy: 0.7188\n",
      "Epoch 169/500\n",
      "26/26 [==============================] - 0s 4ms/step - loss: 0.4055 - accuracy: 0.8082 - val_loss: 0.5536 - val_accuracy: 0.7312\n",
      "Epoch 170/500\n",
      "26/26 [==============================] - 0s 4ms/step - loss: 0.4274 - accuracy: 0.7900 - val_loss: 0.5154 - val_accuracy: 0.7188\n",
      "Epoch 171/500\n",
      "26/26 [==============================] - 0s 4ms/step - loss: 0.4279 - accuracy: 0.7980 - val_loss: 0.5165 - val_accuracy: 0.7688\n",
      "Epoch 172/500\n",
      "26/26 [==============================] - 0s 4ms/step - loss: 0.4346 - accuracy: 0.8237 - val_loss: 0.5185 - val_accuracy: 0.7125\n",
      "Epoch 173/500\n",
      "26/26 [==============================] - 0s 4ms/step - loss: 0.4166 - accuracy: 0.8046 - val_loss: 0.5304 - val_accuracy: 0.7375\n",
      "Epoch 174/500\n",
      "26/26 [==============================] - 0s 4ms/step - loss: 0.4070 - accuracy: 0.8016 - val_loss: 0.5353 - val_accuracy: 0.7563\n",
      "Epoch 175/500\n",
      "26/26 [==============================] - 0s 4ms/step - loss: 0.4288 - accuracy: 0.7997 - val_loss: 0.5282 - val_accuracy: 0.7563\n",
      "Epoch 176/500\n",
      "26/26 [==============================] - 0s 4ms/step - loss: 0.4229 - accuracy: 0.8047 - val_loss: 0.5518 - val_accuracy: 0.7563\n",
      "Epoch 177/500\n",
      "26/26 [==============================] - 0s 4ms/step - loss: 0.4444 - accuracy: 0.7818 - val_loss: 0.5342 - val_accuracy: 0.7375\n",
      "Epoch 178/500\n",
      "26/26 [==============================] - 0s 4ms/step - loss: 0.4037 - accuracy: 0.7851 - val_loss: 0.5139 - val_accuracy: 0.7625\n",
      "Epoch 179/500\n",
      "26/26 [==============================] - 0s 5ms/step - loss: 0.4025 - accuracy: 0.8315 - val_loss: 0.5507 - val_accuracy: 0.7625\n",
      "Epoch 180/500\n",
      "26/26 [==============================] - 0s 4ms/step - loss: 0.4531 - accuracy: 0.7923 - val_loss: 0.5374 - val_accuracy: 0.7500\n",
      "Epoch 181/500\n",
      "26/26 [==============================] - 0s 5ms/step - loss: 0.4115 - accuracy: 0.7823 - val_loss: 0.5173 - val_accuracy: 0.7750\n",
      "Epoch 182/500\n",
      "26/26 [==============================] - 0s 5ms/step - loss: 0.4473 - accuracy: 0.7554 - val_loss: 0.5286 - val_accuracy: 0.7563\n",
      "Epoch 183/500\n",
      "26/26 [==============================] - 0s 4ms/step - loss: 0.3853 - accuracy: 0.8205 - val_loss: 0.5090 - val_accuracy: 0.7500\n",
      "Epoch 184/500\n",
      "26/26 [==============================] - 0s 4ms/step - loss: 0.4290 - accuracy: 0.7726 - val_loss: 0.5635 - val_accuracy: 0.7500\n",
      "Epoch 185/500\n",
      "26/26 [==============================] - 0s 5ms/step - loss: 0.4085 - accuracy: 0.8225 - val_loss: 0.5486 - val_accuracy: 0.7437\n",
      "Epoch 186/500\n",
      "26/26 [==============================] - 0s 4ms/step - loss: 0.3987 - accuracy: 0.8004 - val_loss: 0.5342 - val_accuracy: 0.7688\n",
      "Epoch 187/500\n",
      "26/26 [==============================] - 0s 4ms/step - loss: 0.4490 - accuracy: 0.7988 - val_loss: 0.5166 - val_accuracy: 0.7625\n",
      "Epoch 188/500\n",
      "26/26 [==============================] - 0s 4ms/step - loss: 0.4220 - accuracy: 0.7705 - val_loss: 0.5417 - val_accuracy: 0.7500\n",
      "Epoch 189/500\n",
      "26/26 [==============================] - 0s 5ms/step - loss: 0.3837 - accuracy: 0.8300 - val_loss: 0.5334 - val_accuracy: 0.7688\n",
      "Epoch 190/500\n",
      "26/26 [==============================] - 0s 4ms/step - loss: 0.3911 - accuracy: 0.8314 - val_loss: 0.5417 - val_accuracy: 0.7500\n",
      "Epoch 191/500\n",
      "26/26 [==============================] - 0s 5ms/step - loss: 0.4101 - accuracy: 0.7987 - val_loss: 0.5480 - val_accuracy: 0.7500\n",
      "Epoch 192/500\n",
      "26/26 [==============================] - 0s 4ms/step - loss: 0.3986 - accuracy: 0.8182 - val_loss: 0.5461 - val_accuracy: 0.7625\n",
      "Epoch 193/500\n",
      "26/26 [==============================] - 0s 4ms/step - loss: 0.4071 - accuracy: 0.8124 - val_loss: 0.5393 - val_accuracy: 0.7563\n",
      "Epoch 194/500\n",
      "26/26 [==============================] - 0s 5ms/step - loss: 0.4026 - accuracy: 0.8043 - val_loss: 0.5712 - val_accuracy: 0.7688\n",
      "Epoch 195/500\n",
      "26/26 [==============================] - 0s 5ms/step - loss: 0.4062 - accuracy: 0.8081 - val_loss: 0.5633 - val_accuracy: 0.7688\n",
      "Epoch 196/500\n",
      "26/26 [==============================] - 0s 5ms/step - loss: 0.4478 - accuracy: 0.7843 - val_loss: 0.5377 - val_accuracy: 0.7375\n",
      "Epoch 197/500\n",
      "26/26 [==============================] - 0s 4ms/step - loss: 0.4402 - accuracy: 0.8100 - val_loss: 0.5517 - val_accuracy: 0.7937\n",
      "Epoch 198/500\n",
      "26/26 [==============================] - 0s 5ms/step - loss: 0.4413 - accuracy: 0.7991 - val_loss: 0.5482 - val_accuracy: 0.7750\n",
      "Epoch 199/500\n",
      "26/26 [==============================] - 0s 4ms/step - loss: 0.3914 - accuracy: 0.8223 - val_loss: 0.5668 - val_accuracy: 0.7688\n",
      "Epoch 200/500\n",
      "26/26 [==============================] - 0s 5ms/step - loss: 0.3579 - accuracy: 0.8303 - val_loss: 0.5439 - val_accuracy: 0.7688\n",
      "Epoch 201/500\n",
      "26/26 [==============================] - 0s 4ms/step - loss: 0.3849 - accuracy: 0.8150 - val_loss: 0.5547 - val_accuracy: 0.7500\n",
      "Epoch 202/500\n",
      "26/26 [==============================] - 0s 5ms/step - loss: 0.4380 - accuracy: 0.7958 - val_loss: 0.5289 - val_accuracy: 0.7625\n",
      "Epoch 203/500\n",
      "26/26 [==============================] - 0s 5ms/step - loss: 0.3777 - accuracy: 0.8037 - val_loss: 0.5728 - val_accuracy: 0.7812\n",
      "Epoch 204/500\n",
      "26/26 [==============================] - 0s 4ms/step - loss: 0.4129 - accuracy: 0.8016 - val_loss: 0.5461 - val_accuracy: 0.7688\n",
      "Epoch 205/500\n",
      "26/26 [==============================] - 0s 4ms/step - loss: 0.3586 - accuracy: 0.8507 - val_loss: 0.5783 - val_accuracy: 0.7375\n",
      "Epoch 206/500\n",
      "26/26 [==============================] - 0s 4ms/step - loss: 0.4042 - accuracy: 0.8038 - val_loss: 0.5700 - val_accuracy: 0.7312\n",
      "Epoch 207/500\n",
      "26/26 [==============================] - 0s 5ms/step - loss: 0.3859 - accuracy: 0.8247 - val_loss: 0.5671 - val_accuracy: 0.7625\n",
      "Epoch 208/500\n",
      "26/26 [==============================] - 0s 5ms/step - loss: 0.3709 - accuracy: 0.8239 - val_loss: 0.5775 - val_accuracy: 0.7563\n",
      "Epoch 209/500\n",
      "26/26 [==============================] - 0s 4ms/step - loss: 0.3807 - accuracy: 0.8369 - val_loss: 0.5393 - val_accuracy: 0.7688\n",
      "Epoch 210/500\n",
      "26/26 [==============================] - 0s 4ms/step - loss: 0.3961 - accuracy: 0.8135 - val_loss: 0.5511 - val_accuracy: 0.7312\n",
      "Epoch 211/500\n",
      "26/26 [==============================] - 0s 5ms/step - loss: 0.4157 - accuracy: 0.8136 - val_loss: 0.5756 - val_accuracy: 0.7312\n",
      "Epoch 212/500\n",
      "26/26 [==============================] - 0s 5ms/step - loss: 0.4263 - accuracy: 0.7875 - val_loss: 0.5520 - val_accuracy: 0.7563\n",
      "Epoch 213/500\n",
      "26/26 [==============================] - 0s 5ms/step - loss: 0.3892 - accuracy: 0.8164 - val_loss: 0.5344 - val_accuracy: 0.7688\n",
      "Epoch 214/500\n",
      "26/26 [==============================] - 0s 4ms/step - loss: 0.4158 - accuracy: 0.8075 - val_loss: 0.5310 - val_accuracy: 0.7625\n",
      "Epoch 215/500\n",
      "26/26 [==============================] - 0s 4ms/step - loss: 0.3660 - accuracy: 0.8191 - val_loss: 0.6007 - val_accuracy: 0.7500\n",
      "Epoch 216/500\n",
      "26/26 [==============================] - 0s 5ms/step - loss: 0.3883 - accuracy: 0.8084 - val_loss: 0.5520 - val_accuracy: 0.7625\n",
      "Epoch 217/500\n",
      "26/26 [==============================] - 0s 4ms/step - loss: 0.4289 - accuracy: 0.8129 - val_loss: 0.5224 - val_accuracy: 0.7812\n",
      "Epoch 218/500\n",
      "26/26 [==============================] - 0s 5ms/step - loss: 0.4087 - accuracy: 0.7799 - val_loss: 0.5380 - val_accuracy: 0.7688\n",
      "Epoch 219/500\n",
      "26/26 [==============================] - 0s 5ms/step - loss: 0.4131 - accuracy: 0.7979 - val_loss: 0.5110 - val_accuracy: 0.7875\n",
      "Epoch 220/500\n",
      "26/26 [==============================] - 0s 5ms/step - loss: 0.3901 - accuracy: 0.8053 - val_loss: 0.5301 - val_accuracy: 0.7937\n",
      "Epoch 221/500\n",
      "26/26 [==============================] - 0s 4ms/step - loss: 0.3759 - accuracy: 0.8435 - val_loss: 0.5431 - val_accuracy: 0.7500\n",
      "Epoch 222/500\n",
      "26/26 [==============================] - 0s 5ms/step - loss: 0.3772 - accuracy: 0.8408 - val_loss: 0.5403 - val_accuracy: 0.7563\n",
      "Epoch 223/500\n",
      "26/26 [==============================] - 0s 4ms/step - loss: 0.3923 - accuracy: 0.7869 - val_loss: 0.5177 - val_accuracy: 0.7563\n",
      "Epoch 224/500\n",
      "26/26 [==============================] - 0s 4ms/step - loss: 0.3867 - accuracy: 0.8194 - val_loss: 0.5277 - val_accuracy: 0.7812\n",
      "Epoch 225/500\n",
      "26/26 [==============================] - 0s 4ms/step - loss: 0.3854 - accuracy: 0.8029 - val_loss: 0.5542 - val_accuracy: 0.7500\n",
      "Epoch 226/500\n",
      "26/26 [==============================] - 0s 4ms/step - loss: 0.3917 - accuracy: 0.8052 - val_loss: 0.6025 - val_accuracy: 0.7500\n",
      "Epoch 227/500\n",
      "26/26 [==============================] - 0s 4ms/step - loss: 0.3519 - accuracy: 0.8179 - val_loss: 0.5441 - val_accuracy: 0.7937\n",
      "Epoch 228/500\n",
      "26/26 [==============================] - 0s 5ms/step - loss: 0.3366 - accuracy: 0.8546 - val_loss: 0.5604 - val_accuracy: 0.7750\n",
      "Epoch 229/500\n",
      "26/26 [==============================] - 0s 4ms/step - loss: 0.4055 - accuracy: 0.7904 - val_loss: 0.5460 - val_accuracy: 0.7875\n",
      "Epoch 230/500\n",
      "26/26 [==============================] - 0s 4ms/step - loss: 0.3892 - accuracy: 0.8090 - val_loss: 0.5466 - val_accuracy: 0.7688\n",
      "Epoch 231/500\n",
      "26/26 [==============================] - 0s 4ms/step - loss: 0.3806 - accuracy: 0.8014 - val_loss: 0.5703 - val_accuracy: 0.7688\n",
      "Epoch 232/500\n",
      "26/26 [==============================] - 0s 4ms/step - loss: 0.3792 - accuracy: 0.8348 - val_loss: 0.5534 - val_accuracy: 0.7750\n",
      "Epoch 233/500\n",
      "26/26 [==============================] - 0s 4ms/step - loss: 0.4192 - accuracy: 0.8112 - val_loss: 0.5500 - val_accuracy: 0.7812\n",
      "Epoch 234/500\n",
      "26/26 [==============================] - 0s 5ms/step - loss: 0.3441 - accuracy: 0.8239 - val_loss: 0.5240 - val_accuracy: 0.7750\n",
      "Epoch 235/500\n",
      "26/26 [==============================] - 0s 5ms/step - loss: 0.3721 - accuracy: 0.8254 - val_loss: 0.5310 - val_accuracy: 0.7375\n",
      "Epoch 236/500\n",
      "26/26 [==============================] - 0s 5ms/step - loss: 0.3693 - accuracy: 0.8334 - val_loss: 0.5465 - val_accuracy: 0.7875\n",
      "Epoch 237/500\n",
      "26/26 [==============================] - 0s 4ms/step - loss: 0.3377 - accuracy: 0.8421 - val_loss: 0.5440 - val_accuracy: 0.7875\n",
      "Epoch 238/500\n",
      "26/26 [==============================] - 0s 5ms/step - loss: 0.3332 - accuracy: 0.8411 - val_loss: 0.5683 - val_accuracy: 0.7750\n",
      "Epoch 239/500\n",
      "26/26 [==============================] - 0s 4ms/step - loss: 0.3684 - accuracy: 0.8207 - val_loss: 0.5492 - val_accuracy: 0.7875\n",
      "Epoch 240/500\n",
      "26/26 [==============================] - 0s 5ms/step - loss: 0.3611 - accuracy: 0.8321 - val_loss: 0.5690 - val_accuracy: 0.7375\n",
      "Epoch 241/500\n",
      "26/26 [==============================] - 0s 5ms/step - loss: 0.3494 - accuracy: 0.8431 - val_loss: 0.5376 - val_accuracy: 0.7937\n",
      "Epoch 242/500\n",
      "26/26 [==============================] - 0s 6ms/step - loss: 0.3476 - accuracy: 0.8330 - val_loss: 0.5265 - val_accuracy: 0.7875\n",
      "Epoch 243/500\n",
      "26/26 [==============================] - 0s 4ms/step - loss: 0.3560 - accuracy: 0.8360 - val_loss: 0.5896 - val_accuracy: 0.7875\n",
      "Epoch 244/500\n",
      "26/26 [==============================] - 0s 6ms/step - loss: 0.3998 - accuracy: 0.8218 - val_loss: 0.5893 - val_accuracy: 0.7563\n",
      "Epoch 245/500\n",
      "26/26 [==============================] - 0s 4ms/step - loss: 0.3893 - accuracy: 0.8308 - val_loss: 0.5557 - val_accuracy: 0.7437\n",
      "Epoch 246/500\n",
      "26/26 [==============================] - 0s 4ms/step - loss: 0.3643 - accuracy: 0.8261 - val_loss: 0.5703 - val_accuracy: 0.7625\n",
      "Epoch 247/500\n",
      "26/26 [==============================] - 0s 4ms/step - loss: 0.4001 - accuracy: 0.8248 - val_loss: 0.5594 - val_accuracy: 0.7625\n",
      "Epoch 248/500\n",
      "26/26 [==============================] - 0s 5ms/step - loss: 0.3415 - accuracy: 0.8549 - val_loss: 0.5906 - val_accuracy: 0.7625\n",
      "Epoch 249/500\n",
      "26/26 [==============================] - 0s 4ms/step - loss: 0.3903 - accuracy: 0.8082 - val_loss: 0.5210 - val_accuracy: 0.7812\n",
      "Epoch 250/500\n",
      "26/26 [==============================] - 0s 4ms/step - loss: 0.3562 - accuracy: 0.8328 - val_loss: 0.5432 - val_accuracy: 0.7688\n",
      "Epoch 251/500\n",
      "26/26 [==============================] - 0s 5ms/step - loss: 0.3531 - accuracy: 0.8167 - val_loss: 0.5242 - val_accuracy: 0.7563\n",
      "Epoch 252/500\n",
      "26/26 [==============================] - 0s 4ms/step - loss: 0.3640 - accuracy: 0.8112 - val_loss: 0.5135 - val_accuracy: 0.7875\n",
      "Epoch 253/500\n",
      "26/26 [==============================] - 0s 5ms/step - loss: 0.3532 - accuracy: 0.8137 - val_loss: 0.5398 - val_accuracy: 0.7812\n",
      "Epoch 254/500\n",
      "26/26 [==============================] - 0s 5ms/step - loss: 0.3982 - accuracy: 0.8294 - val_loss: 0.5373 - val_accuracy: 0.7812\n",
      "Epoch 255/500\n",
      "26/26 [==============================] - 0s 5ms/step - loss: 0.3449 - accuracy: 0.8263 - val_loss: 0.5276 - val_accuracy: 0.8000\n",
      "Epoch 256/500\n",
      "26/26 [==============================] - 0s 4ms/step - loss: 0.3452 - accuracy: 0.8683 - val_loss: 0.5555 - val_accuracy: 0.7812\n",
      "Epoch 257/500\n",
      "26/26 [==============================] - 0s 4ms/step - loss: 0.3298 - accuracy: 0.8652 - val_loss: 0.5542 - val_accuracy: 0.7937\n",
      "Epoch 258/500\n",
      "26/26 [==============================] - 0s 4ms/step - loss: 0.3417 - accuracy: 0.8485 - val_loss: 0.5624 - val_accuracy: 0.7750\n",
      "Epoch 259/500\n",
      "26/26 [==============================] - 0s 4ms/step - loss: 0.3675 - accuracy: 0.8304 - val_loss: 0.5532 - val_accuracy: 0.7875\n",
      "Epoch 260/500\n",
      "26/26 [==============================] - 0s 4ms/step - loss: 0.3542 - accuracy: 0.8306 - val_loss: 0.5792 - val_accuracy: 0.7563\n",
      "Epoch 261/500\n",
      "26/26 [==============================] - 0s 4ms/step - loss: 0.3547 - accuracy: 0.8402 - val_loss: 0.5517 - val_accuracy: 0.7500\n",
      "Epoch 262/500\n",
      "26/26 [==============================] - 0s 4ms/step - loss: 0.3374 - accuracy: 0.8478 - val_loss: 0.5507 - val_accuracy: 0.7625\n",
      "Epoch 263/500\n",
      "26/26 [==============================] - 0s 4ms/step - loss: 0.3359 - accuracy: 0.8629 - val_loss: 0.5455 - val_accuracy: 0.7688\n",
      "Epoch 264/500\n",
      "26/26 [==============================] - 0s 4ms/step - loss: 0.3926 - accuracy: 0.8146 - val_loss: 0.5403 - val_accuracy: 0.7563\n",
      "Epoch 265/500\n",
      "26/26 [==============================] - 0s 5ms/step - loss: 0.3266 - accuracy: 0.8328 - val_loss: 0.5751 - val_accuracy: 0.7688\n",
      "Epoch 266/500\n",
      "26/26 [==============================] - 0s 5ms/step - loss: 0.3552 - accuracy: 0.8327 - val_loss: 0.5863 - val_accuracy: 0.7625\n",
      "Epoch 267/500\n",
      "26/26 [==============================] - 0s 6ms/step - loss: 0.3761 - accuracy: 0.8376 - val_loss: 0.5651 - val_accuracy: 0.7688\n",
      "Epoch 268/500\n",
      "26/26 [==============================] - 0s 5ms/step - loss: 0.3476 - accuracy: 0.8400 - val_loss: 0.5472 - val_accuracy: 0.7563\n",
      "Epoch 269/500\n",
      "26/26 [==============================] - 0s 5ms/step - loss: 0.3894 - accuracy: 0.8199 - val_loss: 0.5398 - val_accuracy: 0.7688\n",
      "Epoch 270/500\n",
      "26/26 [==============================] - 0s 4ms/step - loss: 0.3387 - accuracy: 0.8257 - val_loss: 0.5587 - val_accuracy: 0.7875\n",
      "Epoch 271/500\n",
      "26/26 [==============================] - 0s 5ms/step - loss: 0.3096 - accuracy: 0.8613 - val_loss: 0.5444 - val_accuracy: 0.7750\n",
      "Epoch 272/500\n",
      "26/26 [==============================] - 0s 5ms/step - loss: 0.3489 - accuracy: 0.8374 - val_loss: 0.5350 - val_accuracy: 0.7688\n",
      "Epoch 273/500\n",
      "26/26 [==============================] - 0s 4ms/step - loss: 0.3139 - accuracy: 0.8681 - val_loss: 0.5380 - val_accuracy: 0.7875\n",
      "Epoch 274/500\n",
      "26/26 [==============================] - 0s 4ms/step - loss: 0.3661 - accuracy: 0.8386 - val_loss: 0.5477 - val_accuracy: 0.7875\n",
      "Epoch 275/500\n",
      "26/26 [==============================] - 0s 5ms/step - loss: 0.3541 - accuracy: 0.8349 - val_loss: 0.5646 - val_accuracy: 0.7688\n",
      "Epoch 276/500\n",
      "26/26 [==============================] - 0s 4ms/step - loss: 0.2998 - accuracy: 0.8627 - val_loss: 0.5343 - val_accuracy: 0.7937\n",
      "Epoch 277/500\n",
      "26/26 [==============================] - 0s 5ms/step - loss: 0.3598 - accuracy: 0.8307 - val_loss: 0.5761 - val_accuracy: 0.7812\n",
      "Epoch 278/500\n",
      "26/26 [==============================] - 0s 5ms/step - loss: 0.3958 - accuracy: 0.8012 - val_loss: 0.5397 - val_accuracy: 0.7688\n",
      "Epoch 279/500\n",
      "26/26 [==============================] - 0s 4ms/step - loss: 0.3490 - accuracy: 0.8395 - val_loss: 0.5500 - val_accuracy: 0.7812\n",
      "Epoch 280/500\n",
      "26/26 [==============================] - 0s 5ms/step - loss: 0.3331 - accuracy: 0.8625 - val_loss: 0.5253 - val_accuracy: 0.7812\n",
      "Epoch 281/500\n",
      "26/26 [==============================] - 0s 4ms/step - loss: 0.3861 - accuracy: 0.7995 - val_loss: 0.5246 - val_accuracy: 0.7750\n",
      "Epoch 282/500\n",
      "26/26 [==============================] - 0s 4ms/step - loss: 0.3534 - accuracy: 0.8338 - val_loss: 0.5599 - val_accuracy: 0.7688\n",
      "Epoch 283/500\n",
      "26/26 [==============================] - 0s 5ms/step - loss: 0.3874 - accuracy: 0.8115 - val_loss: 0.6003 - val_accuracy: 0.7688\n",
      "Epoch 284/500\n",
      "26/26 [==============================] - 0s 5ms/step - loss: 0.3359 - accuracy: 0.8408 - val_loss: 0.5299 - val_accuracy: 0.8000\n",
      "Epoch 285/500\n",
      "26/26 [==============================] - 0s 4ms/step - loss: 0.3191 - accuracy: 0.8561 - val_loss: 0.5258 - val_accuracy: 0.7937\n",
      "Epoch 286/500\n",
      "26/26 [==============================] - 0s 5ms/step - loss: 0.3674 - accuracy: 0.8443 - val_loss: 0.5244 - val_accuracy: 0.7875\n",
      "Epoch 287/500\n",
      "26/26 [==============================] - 0s 4ms/step - loss: 0.3489 - accuracy: 0.8317 - val_loss: 0.5532 - val_accuracy: 0.7750\n",
      "Epoch 288/500\n",
      "26/26 [==============================] - 0s 4ms/step - loss: 0.3391 - accuracy: 0.8350 - val_loss: 0.5303 - val_accuracy: 0.7937\n",
      "Epoch 289/500\n",
      "26/26 [==============================] - 0s 5ms/step - loss: 0.3135 - accuracy: 0.8556 - val_loss: 0.5337 - val_accuracy: 0.7937\n",
      "Epoch 290/500\n",
      "26/26 [==============================] - 0s 5ms/step - loss: 0.3714 - accuracy: 0.8149 - val_loss: 0.5822 - val_accuracy: 0.7500\n",
      "Epoch 291/500\n",
      "26/26 [==============================] - 0s 4ms/step - loss: 0.3527 - accuracy: 0.8079 - val_loss: 0.5576 - val_accuracy: 0.7812\n",
      "Epoch 292/500\n",
      "26/26 [==============================] - 0s 5ms/step - loss: 0.3198 - accuracy: 0.8580 - val_loss: 0.5399 - val_accuracy: 0.7937\n",
      "Epoch 293/500\n",
      "26/26 [==============================] - 0s 4ms/step - loss: 0.3608 - accuracy: 0.8405 - val_loss: 0.5783 - val_accuracy: 0.7375\n",
      "Epoch 294/500\n",
      "26/26 [==============================] - 0s 5ms/step - loss: 0.3586 - accuracy: 0.8231 - val_loss: 0.5551 - val_accuracy: 0.7563\n",
      "Epoch 295/500\n",
      "26/26 [==============================] - 0s 5ms/step - loss: 0.3496 - accuracy: 0.8244 - val_loss: 0.5287 - val_accuracy: 0.7937\n",
      "Epoch 296/500\n",
      "26/26 [==============================] - 0s 4ms/step - loss: 0.3457 - accuracy: 0.8501 - val_loss: 0.4980 - val_accuracy: 0.7688\n",
      "Epoch 297/500\n",
      "26/26 [==============================] - 0s 5ms/step - loss: 0.3015 - accuracy: 0.8709 - val_loss: 0.5176 - val_accuracy: 0.7688\n",
      "Epoch 298/500\n",
      "26/26 [==============================] - 0s 5ms/step - loss: 0.3380 - accuracy: 0.8402 - val_loss: 0.5415 - val_accuracy: 0.7812\n",
      "Epoch 299/500\n",
      "26/26 [==============================] - 0s 5ms/step - loss: 0.3537 - accuracy: 0.8328 - val_loss: 0.5102 - val_accuracy: 0.7625\n",
      "Epoch 300/500\n",
      "26/26 [==============================] - 0s 5ms/step - loss: 0.3197 - accuracy: 0.8675 - val_loss: 0.5457 - val_accuracy: 0.7750\n",
      "Epoch 301/500\n",
      "26/26 [==============================] - 0s 4ms/step - loss: 0.3357 - accuracy: 0.8429 - val_loss: 0.5348 - val_accuracy: 0.7625\n",
      "Epoch 302/500\n",
      "26/26 [==============================] - 0s 4ms/step - loss: 0.3753 - accuracy: 0.8521 - val_loss: 0.5715 - val_accuracy: 0.7625\n",
      "Epoch 303/500\n",
      "26/26 [==============================] - 0s 4ms/step - loss: 0.3128 - accuracy: 0.8661 - val_loss: 0.5189 - val_accuracy: 0.7875\n",
      "Epoch 304/500\n",
      "26/26 [==============================] - 0s 5ms/step - loss: 0.3249 - accuracy: 0.8405 - val_loss: 0.5426 - val_accuracy: 0.8188\n",
      "Epoch 305/500\n",
      "26/26 [==============================] - 0s 5ms/step - loss: 0.3440 - accuracy: 0.8381 - val_loss: 0.5469 - val_accuracy: 0.7688\n",
      "Epoch 306/500\n",
      "26/26 [==============================] - 0s 5ms/step - loss: 0.3086 - accuracy: 0.8476 - val_loss: 0.5396 - val_accuracy: 0.7750\n",
      "Epoch 307/500\n",
      "26/26 [==============================] - 0s 6ms/step - loss: 0.3476 - accuracy: 0.8457 - val_loss: 0.5102 - val_accuracy: 0.7812\n",
      "Epoch 308/500\n",
      "26/26 [==============================] - 0s 5ms/step - loss: 0.3044 - accuracy: 0.8713 - val_loss: 0.5175 - val_accuracy: 0.8125\n",
      "Epoch 309/500\n",
      "26/26 [==============================] - 0s 5ms/step - loss: 0.3446 - accuracy: 0.8348 - val_loss: 0.5424 - val_accuracy: 0.7688\n",
      "Epoch 310/500\n",
      "26/26 [==============================] - 0s 4ms/step - loss: 0.3295 - accuracy: 0.8494 - val_loss: 0.5567 - val_accuracy: 0.7563\n",
      "Epoch 311/500\n",
      "26/26 [==============================] - 0s 4ms/step - loss: 0.3400 - accuracy: 0.8430 - val_loss: 0.5287 - val_accuracy: 0.7812\n",
      "Epoch 312/500\n",
      "26/26 [==============================] - 0s 4ms/step - loss: 0.3339 - accuracy: 0.8474 - val_loss: 0.5332 - val_accuracy: 0.8000\n",
      "Epoch 313/500\n",
      "26/26 [==============================] - 0s 5ms/step - loss: 0.3504 - accuracy: 0.8587 - val_loss: 0.5230 - val_accuracy: 0.8000\n",
      "Epoch 314/500\n",
      "26/26 [==============================] - 0s 4ms/step - loss: 0.3139 - accuracy: 0.8599 - val_loss: 0.5234 - val_accuracy: 0.7812\n",
      "Epoch 315/500\n",
      "26/26 [==============================] - 0s 5ms/step - loss: 0.3191 - accuracy: 0.8478 - val_loss: 0.5332 - val_accuracy: 0.7937\n",
      "Epoch 316/500\n",
      "26/26 [==============================] - 0s 4ms/step - loss: 0.3303 - accuracy: 0.8485 - val_loss: 0.5127 - val_accuracy: 0.8062\n",
      "Epoch 317/500\n",
      "26/26 [==============================] - 0s 4ms/step - loss: 0.3224 - accuracy: 0.8437 - val_loss: 0.5695 - val_accuracy: 0.7688\n",
      "Epoch 318/500\n",
      "26/26 [==============================] - 0s 4ms/step - loss: 0.2960 - accuracy: 0.8734 - val_loss: 0.5369 - val_accuracy: 0.7875\n",
      "Epoch 319/500\n",
      "26/26 [==============================] - 0s 5ms/step - loss: 0.3430 - accuracy: 0.8491 - val_loss: 0.5488 - val_accuracy: 0.8062\n",
      "Epoch 320/500\n",
      "26/26 [==============================] - 0s 5ms/step - loss: 0.3533 - accuracy: 0.8605 - val_loss: 0.5829 - val_accuracy: 0.7563\n",
      "Epoch 321/500\n",
      "26/26 [==============================] - 0s 5ms/step - loss: 0.3305 - accuracy: 0.8365 - val_loss: 0.5598 - val_accuracy: 0.7688\n",
      "Epoch 322/500\n",
      "26/26 [==============================] - 0s 5ms/step - loss: 0.3307 - accuracy: 0.8692 - val_loss: 0.5296 - val_accuracy: 0.7750\n",
      "Epoch 323/500\n",
      "26/26 [==============================] - 0s 4ms/step - loss: 0.2954 - accuracy: 0.8487 - val_loss: 0.5075 - val_accuracy: 0.7750\n",
      "Epoch 324/500\n",
      "26/26 [==============================] - 0s 4ms/step - loss: 0.3332 - accuracy: 0.8581 - val_loss: 0.5258 - val_accuracy: 0.7750\n",
      "Epoch 325/500\n",
      "26/26 [==============================] - 0s 5ms/step - loss: 0.3008 - accuracy: 0.8663 - val_loss: 0.5593 - val_accuracy: 0.7875\n",
      "Epoch 326/500\n",
      "26/26 [==============================] - 0s 4ms/step - loss: 0.2897 - accuracy: 0.8727 - val_loss: 0.5270 - val_accuracy: 0.7500\n",
      "Epoch 327/500\n",
      "26/26 [==============================] - 0s 5ms/step - loss: 0.2941 - accuracy: 0.8554 - val_loss: 0.5401 - val_accuracy: 0.7688\n",
      "Epoch 328/500\n",
      "26/26 [==============================] - 0s 4ms/step - loss: 0.3049 - accuracy: 0.8463 - val_loss: 0.5487 - val_accuracy: 0.7750\n",
      "Epoch 329/500\n",
      "26/26 [==============================] - 0s 4ms/step - loss: 0.2897 - accuracy: 0.8752 - val_loss: 0.5598 - val_accuracy: 0.7812\n",
      "Epoch 330/500\n",
      "26/26 [==============================] - 0s 4ms/step - loss: 0.3253 - accuracy: 0.8552 - val_loss: 0.5268 - val_accuracy: 0.7812\n",
      "Epoch 331/500\n",
      "26/26 [==============================] - 0s 4ms/step - loss: 0.3485 - accuracy: 0.8476 - val_loss: 0.5234 - val_accuracy: 0.7750\n",
      "Epoch 332/500\n",
      "26/26 [==============================] - 0s 4ms/step - loss: 0.3023 - accuracy: 0.8536 - val_loss: 0.5156 - val_accuracy: 0.8000\n",
      "Epoch 333/500\n",
      "26/26 [==============================] - 0s 4ms/step - loss: 0.2815 - accuracy: 0.8923 - val_loss: 0.5397 - val_accuracy: 0.7812\n",
      "Epoch 334/500\n",
      "26/26 [==============================] - 0s 5ms/step - loss: 0.3475 - accuracy: 0.8375 - val_loss: 0.5565 - val_accuracy: 0.7688\n",
      "Epoch 335/500\n",
      "26/26 [==============================] - 0s 5ms/step - loss: 0.3047 - accuracy: 0.8594 - val_loss: 0.5571 - val_accuracy: 0.7750\n",
      "Epoch 336/500\n",
      "26/26 [==============================] - 0s 5ms/step - loss: 0.2968 - accuracy: 0.8509 - val_loss: 0.5366 - val_accuracy: 0.8000\n",
      "Epoch 337/500\n",
      "26/26 [==============================] - 0s 4ms/step - loss: 0.2931 - accuracy: 0.8681 - val_loss: 0.5635 - val_accuracy: 0.7563\n",
      "Epoch 338/500\n",
      "26/26 [==============================] - 0s 4ms/step - loss: 0.3441 - accuracy: 0.8464 - val_loss: 0.5742 - val_accuracy: 0.7625\n",
      "Epoch 339/500\n",
      "26/26 [==============================] - 0s 5ms/step - loss: 0.3036 - accuracy: 0.8604 - val_loss: 0.5420 - val_accuracy: 0.7812\n",
      "Epoch 340/500\n",
      "26/26 [==============================] - 0s 5ms/step - loss: 0.3302 - accuracy: 0.8433 - val_loss: 0.5371 - val_accuracy: 0.7812\n",
      "Epoch 341/500\n",
      "26/26 [==============================] - 0s 4ms/step - loss: 0.3009 - accuracy: 0.8648 - val_loss: 0.5313 - val_accuracy: 0.8062\n",
      "Epoch 342/500\n",
      "26/26 [==============================] - 0s 5ms/step - loss: 0.2885 - accuracy: 0.8817 - val_loss: 0.5373 - val_accuracy: 0.7750\n",
      "Epoch 343/500\n",
      "26/26 [==============================] - 0s 5ms/step - loss: 0.3276 - accuracy: 0.8466 - val_loss: 0.5304 - val_accuracy: 0.8000\n",
      "Epoch 344/500\n",
      "26/26 [==============================] - 0s 4ms/step - loss: 0.2981 - accuracy: 0.8565 - val_loss: 0.5534 - val_accuracy: 0.7812\n",
      "Epoch 345/500\n",
      "26/26 [==============================] - 0s 5ms/step - loss: 0.3969 - accuracy: 0.8267 - val_loss: 0.5511 - val_accuracy: 0.7625\n",
      "Epoch 346/500\n",
      "26/26 [==============================] - 0s 4ms/step - loss: 0.2929 - accuracy: 0.8708 - val_loss: 0.5424 - val_accuracy: 0.7812\n",
      "Epoch 347/500\n",
      "26/26 [==============================] - 0s 5ms/step - loss: 0.2604 - accuracy: 0.8891 - val_loss: 0.5426 - val_accuracy: 0.7875\n",
      "Epoch 348/500\n",
      "26/26 [==============================] - 0s 5ms/step - loss: 0.3063 - accuracy: 0.8620 - val_loss: 0.5635 - val_accuracy: 0.7937\n",
      "Epoch 349/500\n",
      "26/26 [==============================] - 0s 4ms/step - loss: 0.2976 - accuracy: 0.8762 - val_loss: 0.5760 - val_accuracy: 0.7563\n",
      "Epoch 350/500\n",
      "26/26 [==============================] - 0s 5ms/step - loss: 0.3227 - accuracy: 0.8466 - val_loss: 0.5649 - val_accuracy: 0.7625\n",
      "Epoch 351/500\n",
      "26/26 [==============================] - 0s 5ms/step - loss: 0.3210 - accuracy: 0.8719 - val_loss: 0.5156 - val_accuracy: 0.7750\n",
      "Epoch 352/500\n",
      "26/26 [==============================] - 0s 5ms/step - loss: 0.3074 - accuracy: 0.8620 - val_loss: 0.5160 - val_accuracy: 0.7875\n",
      "Epoch 353/500\n",
      "26/26 [==============================] - 0s 4ms/step - loss: 0.3229 - accuracy: 0.8586 - val_loss: 0.5259 - val_accuracy: 0.7750\n",
      "Epoch 354/500\n",
      "26/26 [==============================] - 0s 5ms/step - loss: 0.3024 - accuracy: 0.8772 - val_loss: 0.5394 - val_accuracy: 0.7875\n",
      "Epoch 355/500\n",
      "26/26 [==============================] - 0s 4ms/step - loss: 0.2814 - accuracy: 0.8754 - val_loss: 0.5359 - val_accuracy: 0.7688\n",
      "Epoch 356/500\n",
      "26/26 [==============================] - 0s 4ms/step - loss: 0.3017 - accuracy: 0.8732 - val_loss: 0.5295 - val_accuracy: 0.7937\n",
      "Epoch 357/500\n",
      "26/26 [==============================] - 0s 6ms/step - loss: 0.3483 - accuracy: 0.8580 - val_loss: 0.5596 - val_accuracy: 0.7500\n",
      "Epoch 358/500\n",
      "26/26 [==============================] - 0s 5ms/step - loss: 0.2805 - accuracy: 0.8785 - val_loss: 0.5594 - val_accuracy: 0.7688\n",
      "Epoch 359/500\n",
      "26/26 [==============================] - 0s 5ms/step - loss: 0.2932 - accuracy: 0.8572 - val_loss: 0.5141 - val_accuracy: 0.7875\n",
      "Epoch 360/500\n",
      "26/26 [==============================] - 0s 5ms/step - loss: 0.3090 - accuracy: 0.8642 - val_loss: 0.5351 - val_accuracy: 0.7875\n",
      "Epoch 361/500\n",
      "26/26 [==============================] - 0s 5ms/step - loss: 0.3347 - accuracy: 0.8496 - val_loss: 0.5384 - val_accuracy: 0.7688\n",
      "Epoch 362/500\n",
      "26/26 [==============================] - 0s 5ms/step - loss: 0.3458 - accuracy: 0.8553 - val_loss: 0.5355 - val_accuracy: 0.7688\n",
      "Epoch 363/500\n",
      "26/26 [==============================] - 0s 5ms/step - loss: 0.3226 - accuracy: 0.8589 - val_loss: 0.5329 - val_accuracy: 0.7937\n",
      "Epoch 364/500\n",
      "26/26 [==============================] - 0s 4ms/step - loss: 0.2929 - accuracy: 0.8645 - val_loss: 0.5355 - val_accuracy: 0.8000\n",
      "Epoch 365/500\n",
      "26/26 [==============================] - 0s 4ms/step - loss: 0.3010 - accuracy: 0.8683 - val_loss: 0.5258 - val_accuracy: 0.7750\n",
      "Epoch 366/500\n",
      "26/26 [==============================] - 0s 5ms/step - loss: 0.3196 - accuracy: 0.8754 - val_loss: 0.5341 - val_accuracy: 0.7875\n",
      "Epoch 367/500\n",
      "26/26 [==============================] - 0s 4ms/step - loss: 0.3007 - accuracy: 0.8492 - val_loss: 0.5503 - val_accuracy: 0.7750\n",
      "Epoch 368/500\n",
      "26/26 [==============================] - 0s 5ms/step - loss: 0.3176 - accuracy: 0.8422 - val_loss: 0.5811 - val_accuracy: 0.7937\n",
      "Epoch 369/500\n",
      "26/26 [==============================] - 0s 5ms/step - loss: 0.2858 - accuracy: 0.8937 - val_loss: 0.5593 - val_accuracy: 0.7625\n",
      "Epoch 370/500\n",
      "26/26 [==============================] - 0s 4ms/step - loss: 0.3003 - accuracy: 0.8567 - val_loss: 0.5464 - val_accuracy: 0.7563\n",
      "Epoch 371/500\n",
      "26/26 [==============================] - 0s 4ms/step - loss: 0.2919 - accuracy: 0.8606 - val_loss: 0.5613 - val_accuracy: 0.7625\n",
      "Epoch 372/500\n",
      "26/26 [==============================] - 0s 4ms/step - loss: 0.3557 - accuracy: 0.8473 - val_loss: 0.5029 - val_accuracy: 0.7875\n",
      "Epoch 373/500\n",
      "26/26 [==============================] - 0s 4ms/step - loss: 0.2998 - accuracy: 0.8670 - val_loss: 0.5197 - val_accuracy: 0.8000\n",
      "Epoch 374/500\n",
      "26/26 [==============================] - 0s 4ms/step - loss: 0.2718 - accuracy: 0.8748 - val_loss: 0.5406 - val_accuracy: 0.7563\n",
      "Epoch 375/500\n",
      "26/26 [==============================] - 0s 4ms/step - loss: 0.3440 - accuracy: 0.8648 - val_loss: 0.5931 - val_accuracy: 0.7563\n",
      "Epoch 376/500\n",
      "26/26 [==============================] - 0s 4ms/step - loss: 0.3224 - accuracy: 0.8480 - val_loss: 0.5466 - val_accuracy: 0.7563\n",
      "Epoch 377/500\n",
      "26/26 [==============================] - 0s 5ms/step - loss: 0.2808 - accuracy: 0.8635 - val_loss: 0.5122 - val_accuracy: 0.7625\n",
      "Epoch 378/500\n",
      "26/26 [==============================] - 0s 5ms/step - loss: 0.3168 - accuracy: 0.8584 - val_loss: 0.5168 - val_accuracy: 0.7750\n",
      "Epoch 379/500\n",
      "26/26 [==============================] - 0s 4ms/step - loss: 0.2792 - accuracy: 0.8836 - val_loss: 0.5591 - val_accuracy: 0.7812\n",
      "Epoch 380/500\n",
      "26/26 [==============================] - 0s 5ms/step - loss: 0.2751 - accuracy: 0.8843 - val_loss: 0.5406 - val_accuracy: 0.7937\n",
      "Epoch 381/500\n",
      "26/26 [==============================] - 0s 4ms/step - loss: 0.2648 - accuracy: 0.8830 - val_loss: 0.5631 - val_accuracy: 0.7750\n",
      "Epoch 382/500\n",
      "26/26 [==============================] - 0s 5ms/step - loss: 0.3206 - accuracy: 0.8473 - val_loss: 0.5469 - val_accuracy: 0.7812\n",
      "Epoch 383/500\n",
      "26/26 [==============================] - 0s 5ms/step - loss: 0.2619 - accuracy: 0.8751 - val_loss: 0.5503 - val_accuracy: 0.7937\n",
      "Epoch 384/500\n",
      "26/26 [==============================] - 0s 4ms/step - loss: 0.2983 - accuracy: 0.8568 - val_loss: 0.5442 - val_accuracy: 0.7875\n",
      "Epoch 385/500\n",
      "26/26 [==============================] - 0s 5ms/step - loss: 0.2924 - accuracy: 0.8816 - val_loss: 0.5380 - val_accuracy: 0.7875\n",
      "Epoch 386/500\n",
      "26/26 [==============================] - 0s 5ms/step - loss: 0.2865 - accuracy: 0.8688 - val_loss: 0.5415 - val_accuracy: 0.7688\n",
      "Epoch 387/500\n",
      "26/26 [==============================] - 0s 4ms/step - loss: 0.2572 - accuracy: 0.8842 - val_loss: 0.5307 - val_accuracy: 0.7937\n",
      "Epoch 388/500\n",
      "26/26 [==============================] - 0s 5ms/step - loss: 0.2825 - accuracy: 0.8715 - val_loss: 0.5358 - val_accuracy: 0.7875\n",
      "Epoch 389/500\n",
      "26/26 [==============================] - 0s 4ms/step - loss: 0.2773 - accuracy: 0.8769 - val_loss: 0.5422 - val_accuracy: 0.8125\n",
      "Epoch 390/500\n",
      "26/26 [==============================] - 0s 4ms/step - loss: 0.2716 - accuracy: 0.8782 - val_loss: 0.5316 - val_accuracy: 0.8000\n",
      "Epoch 391/500\n",
      "26/26 [==============================] - 0s 5ms/step - loss: 0.3306 - accuracy: 0.8679 - val_loss: 0.5678 - val_accuracy: 0.7812\n",
      "Epoch 392/500\n",
      "26/26 [==============================] - 0s 5ms/step - loss: 0.2851 - accuracy: 0.8778 - val_loss: 0.5796 - val_accuracy: 0.7563\n",
      "Epoch 393/500\n",
      "26/26 [==============================] - 0s 5ms/step - loss: 0.3155 - accuracy: 0.8716 - val_loss: 0.5005 - val_accuracy: 0.7937\n",
      "Epoch 394/500\n",
      "26/26 [==============================] - 0s 5ms/step - loss: 0.3609 - accuracy: 0.8496 - val_loss: 0.4812 - val_accuracy: 0.8125\n",
      "Epoch 395/500\n",
      "26/26 [==============================] - 0s 4ms/step - loss: 0.3127 - accuracy: 0.8567 - val_loss: 0.5269 - val_accuracy: 0.7937\n",
      "Epoch 396/500\n",
      "26/26 [==============================] - 0s 4ms/step - loss: 0.2862 - accuracy: 0.8784 - val_loss: 0.5143 - val_accuracy: 0.7688\n",
      "Epoch 397/500\n",
      "26/26 [==============================] - 0s 4ms/step - loss: 0.2923 - accuracy: 0.8446 - val_loss: 0.4969 - val_accuracy: 0.8000\n",
      "Epoch 398/500\n",
      "26/26 [==============================] - 0s 4ms/step - loss: 0.3013 - accuracy: 0.8619 - val_loss: 0.5142 - val_accuracy: 0.7812\n",
      "Epoch 399/500\n",
      "26/26 [==============================] - 0s 5ms/step - loss: 0.2713 - accuracy: 0.8902 - val_loss: 0.5676 - val_accuracy: 0.7500\n",
      "Epoch 400/500\n",
      "26/26 [==============================] - 0s 4ms/step - loss: 0.2877 - accuracy: 0.8543 - val_loss: 0.5090 - val_accuracy: 0.8188\n",
      "Epoch 401/500\n",
      "26/26 [==============================] - 0s 5ms/step - loss: 0.2886 - accuracy: 0.8744 - val_loss: 0.5387 - val_accuracy: 0.7875\n",
      "Epoch 402/500\n",
      "26/26 [==============================] - 0s 5ms/step - loss: 0.2815 - accuracy: 0.8793 - val_loss: 0.5471 - val_accuracy: 0.7688\n",
      "Epoch 403/500\n",
      "26/26 [==============================] - 0s 4ms/step - loss: 0.2657 - accuracy: 0.8907 - val_loss: 0.5103 - val_accuracy: 0.7937\n",
      "Epoch 404/500\n",
      "26/26 [==============================] - 0s 4ms/step - loss: 0.2902 - accuracy: 0.8621 - val_loss: 0.5342 - val_accuracy: 0.7875\n",
      "Epoch 405/500\n",
      "26/26 [==============================] - 0s 5ms/step - loss: 0.2723 - accuracy: 0.8754 - val_loss: 0.5434 - val_accuracy: 0.7750\n",
      "Epoch 406/500\n",
      "26/26 [==============================] - 0s 5ms/step - loss: 0.2683 - accuracy: 0.8761 - val_loss: 0.5218 - val_accuracy: 0.8250\n",
      "Epoch 407/500\n",
      "26/26 [==============================] - 0s 4ms/step - loss: 0.2483 - accuracy: 0.8811 - val_loss: 0.5350 - val_accuracy: 0.7563\n",
      "Epoch 408/500\n",
      "26/26 [==============================] - 0s 5ms/step - loss: 0.2663 - accuracy: 0.8910 - val_loss: 0.5360 - val_accuracy: 0.7750\n",
      "Epoch 409/500\n",
      "26/26 [==============================] - 0s 5ms/step - loss: 0.2745 - accuracy: 0.8823 - val_loss: 0.5081 - val_accuracy: 0.7937\n",
      "Epoch 410/500\n",
      "26/26 [==============================] - 0s 5ms/step - loss: 0.3469 - accuracy: 0.8371 - val_loss: 0.5694 - val_accuracy: 0.7937\n",
      "Epoch 411/500\n",
      "26/26 [==============================] - 0s 5ms/step - loss: 0.2933 - accuracy: 0.8682 - val_loss: 0.5585 - val_accuracy: 0.7500\n",
      "Epoch 412/500\n",
      "26/26 [==============================] - 0s 5ms/step - loss: 0.2696 - accuracy: 0.8914 - val_loss: 0.5227 - val_accuracy: 0.7688\n",
      "Epoch 413/500\n",
      "26/26 [==============================] - 0s 5ms/step - loss: 0.2597 - accuracy: 0.8895 - val_loss: 0.5557 - val_accuracy: 0.7563\n",
      "Epoch 414/500\n",
      "26/26 [==============================] - 0s 5ms/step - loss: 0.3408 - accuracy: 0.8449 - val_loss: 0.5312 - val_accuracy: 0.7875\n",
      "Epoch 415/500\n",
      "26/26 [==============================] - 0s 4ms/step - loss: 0.2874 - accuracy: 0.8691 - val_loss: 0.5492 - val_accuracy: 0.7688\n",
      "Epoch 416/500\n",
      "26/26 [==============================] - 0s 4ms/step - loss: 0.3189 - accuracy: 0.8505 - val_loss: 0.5005 - val_accuracy: 0.7937\n",
      "Epoch 417/500\n",
      "26/26 [==============================] - 0s 4ms/step - loss: 0.2632 - accuracy: 0.8770 - val_loss: 0.5456 - val_accuracy: 0.7688\n",
      "Epoch 418/500\n",
      "26/26 [==============================] - 0s 5ms/step - loss: 0.3398 - accuracy: 0.8538 - val_loss: 0.5691 - val_accuracy: 0.7625\n",
      "Epoch 419/500\n",
      "26/26 [==============================] - 0s 5ms/step - loss: 0.2880 - accuracy: 0.8699 - val_loss: 0.5272 - val_accuracy: 0.8000\n",
      "Epoch 420/500\n",
      "26/26 [==============================] - 0s 4ms/step - loss: 0.2754 - accuracy: 0.8797 - val_loss: 0.5189 - val_accuracy: 0.7812\n",
      "Epoch 421/500\n",
      "26/26 [==============================] - 0s 5ms/step - loss: 0.2927 - accuracy: 0.8573 - val_loss: 0.5099 - val_accuracy: 0.7688\n",
      "Epoch 422/500\n",
      "26/26 [==============================] - 0s 5ms/step - loss: 0.2623 - accuracy: 0.8757 - val_loss: 0.5610 - val_accuracy: 0.7750\n",
      "Epoch 423/500\n",
      "26/26 [==============================] - 0s 5ms/step - loss: 0.2952 - accuracy: 0.8589 - val_loss: 0.5120 - val_accuracy: 0.8125\n",
      "Epoch 424/500\n",
      "26/26 [==============================] - 0s 5ms/step - loss: 0.2706 - accuracy: 0.8744 - val_loss: 0.5024 - val_accuracy: 0.8125\n",
      "Epoch 425/500\n",
      "26/26 [==============================] - 0s 5ms/step - loss: 0.2828 - accuracy: 0.8768 - val_loss: 0.5376 - val_accuracy: 0.7563\n",
      "Epoch 426/500\n",
      "26/26 [==============================] - 0s 4ms/step - loss: 0.2828 - accuracy: 0.8862 - val_loss: 0.5481 - val_accuracy: 0.7750\n",
      "Epoch 427/500\n",
      "26/26 [==============================] - 0s 5ms/step - loss: 0.2871 - accuracy: 0.8693 - val_loss: 0.5394 - val_accuracy: 0.7812\n",
      "Epoch 428/500\n",
      "26/26 [==============================] - 0s 5ms/step - loss: 0.2747 - accuracy: 0.8831 - val_loss: 0.5118 - val_accuracy: 0.7875\n",
      "Epoch 429/500\n",
      "26/26 [==============================] - 0s 5ms/step - loss: 0.2287 - accuracy: 0.9135 - val_loss: 0.5287 - val_accuracy: 0.8000\n",
      "Epoch 430/500\n",
      "26/26 [==============================] - 0s 4ms/step - loss: 0.2714 - accuracy: 0.8777 - val_loss: 0.5155 - val_accuracy: 0.8000\n",
      "Epoch 431/500\n",
      "26/26 [==============================] - 0s 5ms/step - loss: 0.2584 - accuracy: 0.8755 - val_loss: 0.5331 - val_accuracy: 0.8000\n",
      "Epoch 432/500\n",
      "26/26 [==============================] - 0s 5ms/step - loss: 0.2929 - accuracy: 0.8682 - val_loss: 0.5275 - val_accuracy: 0.7750\n",
      "Epoch 433/500\n",
      "26/26 [==============================] - 0s 5ms/step - loss: 0.2664 - accuracy: 0.8844 - val_loss: 0.5374 - val_accuracy: 0.8062\n",
      "Epoch 434/500\n",
      "26/26 [==============================] - 0s 6ms/step - loss: 0.2511 - accuracy: 0.8835 - val_loss: 0.5538 - val_accuracy: 0.7750\n",
      "Epoch 435/500\n",
      "26/26 [==============================] - 0s 5ms/step - loss: 0.2851 - accuracy: 0.8518 - val_loss: 0.5214 - val_accuracy: 0.8000\n",
      "Epoch 436/500\n",
      "26/26 [==============================] - 0s 6ms/step - loss: 0.2241 - accuracy: 0.9265 - val_loss: 0.5119 - val_accuracy: 0.8250\n",
      "Epoch 437/500\n",
      "26/26 [==============================] - 0s 5ms/step - loss: 0.2436 - accuracy: 0.8988 - val_loss: 0.5307 - val_accuracy: 0.7688\n",
      "Epoch 438/500\n",
      "26/26 [==============================] - 0s 5ms/step - loss: 0.3056 - accuracy: 0.8761 - val_loss: 0.5270 - val_accuracy: 0.8000\n",
      "Epoch 439/500\n",
      "26/26 [==============================] - 0s 4ms/step - loss: 0.2768 - accuracy: 0.8835 - val_loss: 0.5150 - val_accuracy: 0.7875\n",
      "Epoch 440/500\n",
      "26/26 [==============================] - 0s 5ms/step - loss: 0.2351 - accuracy: 0.9151 - val_loss: 0.5660 - val_accuracy: 0.8062\n",
      "Epoch 441/500\n",
      "26/26 [==============================] - 0s 5ms/step - loss: 0.2562 - accuracy: 0.9040 - val_loss: 0.5570 - val_accuracy: 0.7875\n",
      "Epoch 442/500\n",
      "26/26 [==============================] - 0s 5ms/step - loss: 0.2488 - accuracy: 0.8876 - val_loss: 0.5314 - val_accuracy: 0.7875\n",
      "Epoch 443/500\n",
      "26/26 [==============================] - 0s 4ms/step - loss: 0.2704 - accuracy: 0.8908 - val_loss: 0.5115 - val_accuracy: 0.7937\n",
      "Epoch 444/500\n",
      "26/26 [==============================] - 0s 5ms/step - loss: 0.3006 - accuracy: 0.8513 - val_loss: 0.5194 - val_accuracy: 0.7750\n",
      "Epoch 445/500\n",
      "26/26 [==============================] - 0s 5ms/step - loss: 0.2912 - accuracy: 0.8741 - val_loss: 0.5096 - val_accuracy: 0.7812\n",
      "Epoch 446/500\n",
      "26/26 [==============================] - 0s 4ms/step - loss: 0.2828 - accuracy: 0.8637 - val_loss: 0.5321 - val_accuracy: 0.7875\n",
      "Epoch 447/500\n",
      "26/26 [==============================] - 0s 4ms/step - loss: 0.2771 - accuracy: 0.8743 - val_loss: 0.4998 - val_accuracy: 0.7875\n",
      "Epoch 448/500\n",
      "26/26 [==============================] - 0s 5ms/step - loss: 0.2883 - accuracy: 0.8735 - val_loss: 0.5231 - val_accuracy: 0.8000\n",
      "Epoch 449/500\n",
      "26/26 [==============================] - 0s 5ms/step - loss: 0.3065 - accuracy: 0.8697 - val_loss: 0.5511 - val_accuracy: 0.7812\n",
      "Epoch 450/500\n",
      "26/26 [==============================] - 0s 4ms/step - loss: 0.2291 - accuracy: 0.8968 - val_loss: 0.5509 - val_accuracy: 0.7937\n",
      "Epoch 451/500\n",
      "26/26 [==============================] - 0s 5ms/step - loss: 0.2799 - accuracy: 0.8648 - val_loss: 0.5511 - val_accuracy: 0.7563\n",
      "Epoch 452/500\n",
      "26/26 [==============================] - 0s 5ms/step - loss: 0.2323 - accuracy: 0.8879 - val_loss: 0.5491 - val_accuracy: 0.7937\n",
      "Epoch 453/500\n",
      "26/26 [==============================] - 0s 4ms/step - loss: 0.2752 - accuracy: 0.8776 - val_loss: 0.5484 - val_accuracy: 0.7875\n",
      "Epoch 454/500\n",
      "26/26 [==============================] - 0s 5ms/step - loss: 0.2511 - accuracy: 0.8858 - val_loss: 0.5893 - val_accuracy: 0.7688\n",
      "Epoch 455/500\n",
      "26/26 [==============================] - 0s 5ms/step - loss: 0.2699 - accuracy: 0.8993 - val_loss: 0.5131 - val_accuracy: 0.7812\n",
      "Epoch 456/500\n",
      "26/26 [==============================] - 0s 5ms/step - loss: 0.2286 - accuracy: 0.9072 - val_loss: 0.5027 - val_accuracy: 0.7937\n",
      "Epoch 457/500\n",
      "26/26 [==============================] - 0s 5ms/step - loss: 0.2183 - accuracy: 0.9145 - val_loss: 0.5808 - val_accuracy: 0.7875\n",
      "Epoch 458/500\n",
      "26/26 [==============================] - 0s 5ms/step - loss: 0.3515 - accuracy: 0.8436 - val_loss: 0.5106 - val_accuracy: 0.7875\n",
      "Epoch 459/500\n",
      "26/26 [==============================] - 0s 4ms/step - loss: 0.2715 - accuracy: 0.8923 - val_loss: 0.5299 - val_accuracy: 0.8000\n",
      "Epoch 460/500\n",
      "26/26 [==============================] - 0s 5ms/step - loss: 0.3209 - accuracy: 0.8367 - val_loss: 0.5070 - val_accuracy: 0.8000\n",
      "Epoch 461/500\n",
      "26/26 [==============================] - 0s 5ms/step - loss: 0.2868 - accuracy: 0.8833 - val_loss: 0.5346 - val_accuracy: 0.7875\n",
      "Epoch 462/500\n",
      "26/26 [==============================] - 0s 4ms/step - loss: 0.2570 - accuracy: 0.8820 - val_loss: 0.4873 - val_accuracy: 0.7937\n",
      "Epoch 463/500\n",
      "26/26 [==============================] - 0s 5ms/step - loss: 0.2376 - accuracy: 0.9015 - val_loss: 0.5108 - val_accuracy: 0.8188\n",
      "Epoch 464/500\n",
      "26/26 [==============================] - 0s 4ms/step - loss: 0.2988 - accuracy: 0.8633 - val_loss: 0.4895 - val_accuracy: 0.8000\n",
      "Epoch 465/500\n",
      "26/26 [==============================] - 0s 5ms/step - loss: 0.2727 - accuracy: 0.8995 - val_loss: 0.5170 - val_accuracy: 0.7937\n",
      "Epoch 466/500\n",
      "26/26 [==============================] - 0s 6ms/step - loss: 0.2671 - accuracy: 0.8683 - val_loss: 0.4873 - val_accuracy: 0.7875\n",
      "Epoch 467/500\n",
      "26/26 [==============================] - 0s 4ms/step - loss: 0.2769 - accuracy: 0.8730 - val_loss: 0.5117 - val_accuracy: 0.7937\n",
      "Epoch 468/500\n",
      "26/26 [==============================] - 0s 5ms/step - loss: 0.2596 - accuracy: 0.8929 - val_loss: 0.5256 - val_accuracy: 0.7875\n",
      "Epoch 469/500\n",
      "26/26 [==============================] - 0s 5ms/step - loss: 0.2143 - accuracy: 0.8993 - val_loss: 0.4916 - val_accuracy: 0.7812\n",
      "Epoch 470/500\n",
      "26/26 [==============================] - 0s 5ms/step - loss: 0.2831 - accuracy: 0.8882 - val_loss: 0.4858 - val_accuracy: 0.7937\n",
      "Epoch 471/500\n",
      "26/26 [==============================] - 0s 5ms/step - loss: 0.2382 - accuracy: 0.9052 - val_loss: 0.5011 - val_accuracy: 0.8000\n",
      "Epoch 472/500\n",
      "26/26 [==============================] - 0s 4ms/step - loss: 0.2740 - accuracy: 0.8957 - val_loss: 0.5491 - val_accuracy: 0.8000\n",
      "Epoch 473/500\n",
      "26/26 [==============================] - 0s 5ms/step - loss: 0.2589 - accuracy: 0.8910 - val_loss: 0.5391 - val_accuracy: 0.7937\n",
      "Epoch 474/500\n",
      "26/26 [==============================] - 0s 5ms/step - loss: 0.2614 - accuracy: 0.8840 - val_loss: 0.5143 - val_accuracy: 0.8125\n",
      "Epoch 475/500\n",
      "26/26 [==============================] - 0s 4ms/step - loss: 0.2640 - accuracy: 0.8846 - val_loss: 0.5828 - val_accuracy: 0.7625\n",
      "Epoch 476/500\n",
      "26/26 [==============================] - 0s 5ms/step - loss: 0.3155 - accuracy: 0.8460 - val_loss: 0.4914 - val_accuracy: 0.7937\n",
      "Epoch 477/500\n",
      "26/26 [==============================] - 0s 5ms/step - loss: 0.2929 - accuracy: 0.8695 - val_loss: 0.5122 - val_accuracy: 0.7750\n",
      "Epoch 478/500\n",
      "26/26 [==============================] - 0s 4ms/step - loss: 0.2621 - accuracy: 0.9033 - val_loss: 0.5149 - val_accuracy: 0.7937\n",
      "Epoch 479/500\n",
      "26/26 [==============================] - 0s 5ms/step - loss: 0.2852 - accuracy: 0.8766 - val_loss: 0.5587 - val_accuracy: 0.7812\n",
      "Epoch 480/500\n",
      "26/26 [==============================] - 0s 4ms/step - loss: 0.2290 - accuracy: 0.8978 - val_loss: 0.5723 - val_accuracy: 0.7875\n",
      "Epoch 481/500\n",
      "26/26 [==============================] - 0s 5ms/step - loss: 0.2746 - accuracy: 0.8855 - val_loss: 0.5269 - val_accuracy: 0.8000\n",
      "Epoch 482/500\n",
      "26/26 [==============================] - 0s 4ms/step - loss: 0.2670 - accuracy: 0.8807 - val_loss: 0.5476 - val_accuracy: 0.7688\n",
      "Epoch 483/500\n",
      "26/26 [==============================] - 0s 5ms/step - loss: 0.2638 - accuracy: 0.8902 - val_loss: 0.5074 - val_accuracy: 0.7937\n",
      "Epoch 484/500\n",
      "26/26 [==============================] - 0s 5ms/step - loss: 0.2579 - accuracy: 0.8869 - val_loss: 0.5120 - val_accuracy: 0.8000\n",
      "Epoch 485/500\n",
      "26/26 [==============================] - 0s 4ms/step - loss: 0.2291 - accuracy: 0.9020 - val_loss: 0.5119 - val_accuracy: 0.7812\n",
      "Epoch 486/500\n",
      "26/26 [==============================] - 0s 5ms/step - loss: 0.2177 - accuracy: 0.8903 - val_loss: 0.4771 - val_accuracy: 0.8188\n",
      "Epoch 487/500\n",
      "26/26 [==============================] - 0s 4ms/step - loss: 0.2654 - accuracy: 0.8778 - val_loss: 0.5087 - val_accuracy: 0.8125\n",
      "Epoch 488/500\n",
      "26/26 [==============================] - 0s 4ms/step - loss: 0.2567 - accuracy: 0.8978 - val_loss: 0.5062 - val_accuracy: 0.8062\n",
      "Epoch 489/500\n",
      "26/26 [==============================] - 0s 5ms/step - loss: 0.2652 - accuracy: 0.8772 - val_loss: 0.4778 - val_accuracy: 0.8125\n",
      "Epoch 490/500\n",
      "26/26 [==============================] - 0s 5ms/step - loss: 0.2645 - accuracy: 0.8844 - val_loss: 0.5072 - val_accuracy: 0.7875\n",
      "Epoch 491/500\n",
      "26/26 [==============================] - 0s 4ms/step - loss: 0.2209 - accuracy: 0.9093 - val_loss: 0.5179 - val_accuracy: 0.8062\n",
      "Epoch 492/500\n",
      "26/26 [==============================] - 0s 4ms/step - loss: 0.2653 - accuracy: 0.8876 - val_loss: 0.5294 - val_accuracy: 0.8000\n",
      "Epoch 493/500\n",
      "26/26 [==============================] - 0s 4ms/step - loss: 0.2625 - accuracy: 0.8690 - val_loss: 0.5276 - val_accuracy: 0.8125\n",
      "Epoch 494/500\n",
      "26/26 [==============================] - 0s 5ms/step - loss: 0.2712 - accuracy: 0.8820 - val_loss: 0.5038 - val_accuracy: 0.7688\n",
      "Epoch 495/500\n",
      "26/26 [==============================] - 0s 4ms/step - loss: 0.2536 - accuracy: 0.8741 - val_loss: 0.5135 - val_accuracy: 0.7812\n",
      "Epoch 496/500\n",
      "26/26 [==============================] - 0s 5ms/step - loss: 0.2595 - accuracy: 0.8964 - val_loss: 0.4971 - val_accuracy: 0.8375\n",
      "Epoch 497/500\n",
      "26/26 [==============================] - 0s 5ms/step - loss: 0.2491 - accuracy: 0.8893 - val_loss: 0.5287 - val_accuracy: 0.7875\n",
      "Epoch 498/500\n",
      "26/26 [==============================] - 0s 5ms/step - loss: 0.2585 - accuracy: 0.8678 - val_loss: 0.5275 - val_accuracy: 0.7688\n",
      "Epoch 499/500\n",
      "26/26 [==============================] - 0s 5ms/step - loss: 0.2448 - accuracy: 0.8983 - val_loss: 0.5429 - val_accuracy: 0.8000\n",
      "Epoch 500/500\n",
      "26/26 [==============================] - 0s 4ms/step - loss: 0.2667 - accuracy: 0.8816 - val_loss: 0.5208 - val_accuracy: 0.7875\n"
     ]
    }
   ],
   "source": [
    "history = model.fit(X_train, Y_train, epochs = 500, batch_size= 25, validation_split = 0.2)"
   ]
  },
  {
   "cell_type": "code",
   "execution_count": 33,
   "metadata": {
    "colab": {
     "base_uri": "https://localhost:8080/",
     "height": 415
    },
    "id": "T4o52choMnmg",
    "outputId": "d1d22cf8-ad1b-4e1a-eba4-68ce4c170aff"
   },
   "outputs": [
    {
     "data": {
      "text/html": [
       "<div>\n",
       "<style scoped>\n",
       "    .dataframe tbody tr th:only-of-type {\n",
       "        vertical-align: middle;\n",
       "    }\n",
       "\n",
       "    .dataframe tbody tr th {\n",
       "        vertical-align: top;\n",
       "    }\n",
       "\n",
       "    .dataframe thead th {\n",
       "        text-align: right;\n",
       "    }\n",
       "</style>\n",
       "<table border=\"1\" class=\"dataframe\">\n",
       "  <thead>\n",
       "    <tr style=\"text-align: right;\">\n",
       "      <th></th>\n",
       "      <th>loss</th>\n",
       "      <th>accuracy</th>\n",
       "      <th>val_loss</th>\n",
       "      <th>val_accuracy</th>\n",
       "    </tr>\n",
       "  </thead>\n",
       "  <tbody>\n",
       "    <tr>\n",
       "      <th>0</th>\n",
       "      <td>4.209885</td>\n",
       "      <td>0.542188</td>\n",
       "      <td>1.054538</td>\n",
       "      <td>0.62500</td>\n",
       "    </tr>\n",
       "    <tr>\n",
       "      <th>1</th>\n",
       "      <td>2.039120</td>\n",
       "      <td>0.540625</td>\n",
       "      <td>0.853411</td>\n",
       "      <td>0.63750</td>\n",
       "    </tr>\n",
       "    <tr>\n",
       "      <th>2</th>\n",
       "      <td>1.693835</td>\n",
       "      <td>0.529688</td>\n",
       "      <td>0.691090</td>\n",
       "      <td>0.62500</td>\n",
       "    </tr>\n",
       "    <tr>\n",
       "      <th>3</th>\n",
       "      <td>1.203649</td>\n",
       "      <td>0.562500</td>\n",
       "      <td>0.625534</td>\n",
       "      <td>0.66875</td>\n",
       "    </tr>\n",
       "    <tr>\n",
       "      <th>4</th>\n",
       "      <td>1.190620</td>\n",
       "      <td>0.551562</td>\n",
       "      <td>0.619859</td>\n",
       "      <td>0.65625</td>\n",
       "    </tr>\n",
       "    <tr>\n",
       "      <th>...</th>\n",
       "      <td>...</td>\n",
       "      <td>...</td>\n",
       "      <td>...</td>\n",
       "      <td>...</td>\n",
       "    </tr>\n",
       "    <tr>\n",
       "      <th>495</th>\n",
       "      <td>0.249565</td>\n",
       "      <td>0.887500</td>\n",
       "      <td>0.497133</td>\n",
       "      <td>0.83750</td>\n",
       "    </tr>\n",
       "    <tr>\n",
       "      <th>496</th>\n",
       "      <td>0.235849</td>\n",
       "      <td>0.898438</td>\n",
       "      <td>0.528740</td>\n",
       "      <td>0.78750</td>\n",
       "    </tr>\n",
       "    <tr>\n",
       "      <th>497</th>\n",
       "      <td>0.258441</td>\n",
       "      <td>0.884375</td>\n",
       "      <td>0.527497</td>\n",
       "      <td>0.76875</td>\n",
       "    </tr>\n",
       "    <tr>\n",
       "      <th>498</th>\n",
       "      <td>0.250267</td>\n",
       "      <td>0.892187</td>\n",
       "      <td>0.542890</td>\n",
       "      <td>0.80000</td>\n",
       "    </tr>\n",
       "    <tr>\n",
       "      <th>499</th>\n",
       "      <td>0.264027</td>\n",
       "      <td>0.879687</td>\n",
       "      <td>0.520763</td>\n",
       "      <td>0.78750</td>\n",
       "    </tr>\n",
       "  </tbody>\n",
       "</table>\n",
       "<p>500 rows × 4 columns</p>\n",
       "</div>"
      ],
      "text/plain": [
       "         loss  accuracy  val_loss  val_accuracy\n",
       "0    4.209885  0.542188  1.054538       0.62500\n",
       "1    2.039120  0.540625  0.853411       0.63750\n",
       "2    1.693835  0.529688  0.691090       0.62500\n",
       "3    1.203649  0.562500  0.625534       0.66875\n",
       "4    1.190620  0.551562  0.619859       0.65625\n",
       "..        ...       ...       ...           ...\n",
       "495  0.249565  0.887500  0.497133       0.83750\n",
       "496  0.235849  0.898438  0.528740       0.78750\n",
       "497  0.258441  0.884375  0.527497       0.76875\n",
       "498  0.250267  0.892187  0.542890       0.80000\n",
       "499  0.264027  0.879687  0.520763       0.78750\n",
       "\n",
       "[500 rows x 4 columns]"
      ]
     },
     "execution_count": 33,
     "metadata": {
      "tags": []
     },
     "output_type": "execute_result"
    }
   ],
   "source": [
    "pd.DataFrame(history.history)"
   ]
  },
  {
   "cell_type": "code",
   "execution_count": 34,
   "metadata": {
    "colab": {
     "base_uri": "https://localhost:8080/",
     "height": 281
    },
    "id": "t5fyW2GNM2ST",
    "outputId": "d5457561-5e4b-4eac-fb36-c413c8be6e45"
   },
   "outputs": [
    {
     "data": {
      "text/plain": [
       "<matplotlib.axes._subplots.AxesSubplot at 0x7fb490352cd0>"
      ]
     },
     "execution_count": 34,
     "metadata": {
      "tags": []
     },
     "output_type": "execute_result"
    },
    {
     "data": {
      "image/png": "[encoded data removed]",
      "text/plain": [
       "<Figure size 432x288 with 1 Axes>"
      ]
     },
     "metadata": {
      "needs_background": "light",
      "tags": []
     },
     "output_type": "display_data"
    }
   ],
   "source": [
    "pd.DataFrame(history.history)[['accuracy', 'val_accuracy']].plot() "
   ]
  },
  {
   "cell_type": "code",
   "execution_count": 35,
   "metadata": {
    "colab": {
     "base_uri": "https://localhost:8080/"
    },
    "id": "AIK8w_w4NB-T",
    "outputId": "2f0fb74f-416f-413f-e365-857873550c51"
   },
   "outputs": [
    {
     "name": "stdout",
     "output_type": "stream",
     "text": [
      "7/7 [==============================] - 0s 2ms/step - loss: 0.8136 - accuracy: 0.7750\n"
     ]
    },
    {
     "data": {
      "text/plain": [
       "[0.8135553002357483, 0.7749999761581421]"
      ]
     },
     "execution_count": 35,
     "metadata": {
      "tags": []
     },
     "output_type": "execute_result"
    }
   ],
   "source": [
    "model.evaluate(X_test, Y_test) "
   ]
  },
  {
   "cell_type": "markdown",
   "metadata": {
    "id": "4F5rLbv31UPI"
   },
   "source": [
    "**Classification Metrics**"
   ]
  },
  {
   "cell_type": "code",
   "execution_count": 38,
   "metadata": {
    "id": "qXjq6OkpNI3D"
   },
   "outputs": [],
   "source": [
    "predict = model.predict(X_test)\n",
    "yhat = np.round(predict)"
   ]
  },
  {
   "cell_type": "code",
   "execution_count": 40,
   "metadata": {
    "colab": {
     "base_uri": "https://localhost:8080/"
    },
    "id": "WbLc8ND51qq7",
    "outputId": "4dce6b48-9799-405c-c9fd-ebb2f1232409"
   },
   "outputs": [
    {
     "data": {
      "text/plain": [
       "array([[77, 21],\n",
       "       [24, 78]])"
      ]
     },
     "execution_count": 40,
     "metadata": {
      "tags": []
     },
     "output_type": "execute_result"
    }
   ],
   "source": [
    "from sklearn.metrics import confusion_matrix\n",
    "confusion_matrix(Y_test, yhat) "
   ]
  },
  {
   "cell_type": "code",
   "execution_count": 42,
   "metadata": {
    "colab": {
     "base_uri": "https://localhost:8080/",
     "height": 281
    },
    "id": "sTV2bFWV2EoR",
    "outputId": "fae37924-97a8-42da-ed3f-5d5a2702c344"
   },
   "outputs": [
    {
     "data": {
      "text/plain": [
       "<matplotlib.axes._subplots.AxesSubplot at 0x7fb48cf84110>"
      ]
     },
     "execution_count": 42,
     "metadata": {
      "tags": []
     },
     "output_type": "execute_result"
    },
    {
     "data": {
      "image/png": "[encoded data removed]",
      "text/plain": [
       "<Figure size 432x288 with 2 Axes>"
      ]
     },
     "metadata": {
      "needs_background": "light",
      "tags": []
     },
     "output_type": "display_data"
    }
   ],
   "source": [
    "sns.heatmap(confusion_matrix(Y_test, yhat), annot = True)"
   ]
  },
  {
   "cell_type": "code",
   "execution_count": 46,
   "metadata": {
    "colab": {
     "base_uri": "https://localhost:8080/"
    },
    "id": "4y-nd0cl2Wwv",
    "outputId": "ceeb9a30-b6f1-4930-d3b6-8c8b9043238e"
   },
   "outputs": [
    {
     "name": "stdout",
     "output_type": "stream",
     "text": [
      "              precision    recall  f1-score   support\n",
      "\n",
      "           0       0.76      0.79      0.77        98\n",
      "           1       0.79      0.76      0.78       102\n",
      "\n",
      "    accuracy                           0.78       200\n",
      "   macro avg       0.78      0.78      0.77       200\n",
      "weighted avg       0.78      0.78      0.78       200\n",
      "\n"
     ]
    }
   ],
   "source": [
    "from sklearn.metrics import classification_report\n",
    "print(classification_report(Y_test, yhat))"
   ]
  }
 ],
 "metadata": {
  "colab": {
   "name": "ANN Classification - Diabetes Classification.ipynb",
   "provenance": []
  },
  "kernelspec": {
   "display_name": "Python 3",
   "language": "python",
   "name": "python3"
  },
  "language_info": {
   "codemirror_mode": {
    "name": "ipython",
    "version": 3
   },
   "file_extension": ".py",
   "mimetype": "text/x-python",
   "name": "python",
   "nbconvert_exporter": "python",
   "pygments_lexer": "ipython3",
   "version": "3.8.5"
  }
 },
 "nbformat": 4,
 "nbformat_minor": 1
}
